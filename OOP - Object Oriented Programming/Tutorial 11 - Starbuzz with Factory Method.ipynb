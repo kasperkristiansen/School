{
 "cells": [
  {
   "cell_type": "markdown",
   "metadata": {},
   "source": [
    "### Tutorial 11 - Adding a Simple Factory to Starbuzz coffee\n",
    "\n",
    "This tutorial continue to build on the Simple Factory tutorial from before. The given code implements the Starbuzz coffee example used in class with a small change (note the \"Filter Brewed\" bit\"). This code uses user input to determine which component to implement. \n",
    "\n",
    "#### Previous Tutorial\n",
    "You previously added a factory to the design and delegated instatiation to the factory. This is an elegant solution for most simple cases. \n",
    "\n",
    "#### New \"Twist\"\n",
    "However, what would happen if we decided that Starbuzz will also open shop in tropical locations. In these very warm tropical countries we will not make filter brewed coffee at all. Instead it will all be \"Cold Brewed\". Condiments will however be the same.\n",
    "\n",
    "Implement a Factory Method Pattern to accomodate both these regional variants in coffee shop style."
   ]
  },
  {
   "cell_type": "code",
   "execution_count": 1,
   "metadata": {},
   "outputs": [],
   "source": [
    "import abc\n"
   ]
  },
  {
   "cell_type": "code",
   "execution_count": 2,
   "metadata": {},
   "outputs": [],
   "source": [
    "class Beverage(metaclass=abc.ABCMeta):\n",
    "   \n",
    "    @abc.abstractmethod\n",
    "    def cost(self):\n",
    "        pass\n",
    "    \n",
    "    @abc.abstractmethod\n",
    "    def description(self):\n",
    "        pass   "
   ]
  },
  {
   "cell_type": "code",
   "execution_count": 3,
   "metadata": {},
   "outputs": [],
   "source": [
    "class Condiment(Beverage, metaclass=abc.ABCMeta):\n",
    "    def __init__(self,beverage):\n",
    "        self._beverage = beverage\n",
    "        \n",
    "    @abc.abstractmethod\n",
    "    def cost(self):\n",
    "        pass\n",
    "    \n",
    "    @abc.abstractmethod\n",
    "    def description(self):\n",
    "        pass    "
   ]
  },
  {
   "cell_type": "code",
   "execution_count": 4,
   "metadata": {},
   "outputs": [],
   "source": [
    "class DarkRoast(Beverage):\n",
    "    \n",
    "    def cost(self):\n",
    "        return 20.00\n",
    "    \n",
    "    def description(self):\n",
    "        return \"Filter Brewed - Dark roasted coffee\""
   ]
  },
  {
   "cell_type": "code",
   "execution_count": 5,
   "metadata": {},
   "outputs": [],
   "source": [
    "class Decaf(Beverage):\n",
    "    \n",
    "    def cost(self):\n",
    "        return 21.50\n",
    "    \n",
    "    def description(self):\n",
    "        return \"Filter Brewed - Terrible fake coffee\" "
   ]
  },
  {
   "cell_type": "code",
   "execution_count": 6,
   "metadata": {},
   "outputs": [],
   "source": [
    "class Milk(Condiment):\n",
    "    \n",
    "    def cost(self):\n",
    "        return self._beverage.cost() + 0.50\n",
    "    \n",
    "    def description(self):\n",
    "        return self._beverage.description() + \", milk\" "
   ]
  },
  {
   "cell_type": "code",
   "execution_count": 7,
   "metadata": {},
   "outputs": [],
   "source": [
    "class Mocha(Condiment):\n",
    "    \n",
    "    def cost(self):\n",
    "        return self._beverage.cost() + 1.50\n",
    "    \n",
    "    def description(self):\n",
    "        return \"mocha, \" + self._beverage.description() "
   ]
  },
  {
   "cell_type": "code",
   "execution_count": 8,
   "metadata": {},
   "outputs": [
    {
     "name": "stdout",
     "output_type": "stream",
     "text": [
      "Input desired coffee: 1\n"
     ]
    }
   ],
   "source": [
    "usr_input = input(\"Input desired coffee: \")\n",
    "while ((usr_input != '1') and (usr_input != '2')\n",
    "    and (usr_input != '3')and (usr_input != '4')):\n",
    "    usr_input = input(\"Input: \")\n",
    "\n",
    "if usr_input == '1':\n",
    "    order = DarkRoast()\n",
    "elif usr_input == '2':\n",
    "    order = Decaf()\n",
    "elif usr_input == '3':\n",
    "    order = Espresso()\n",
    "elif usr_input == '4':\n",
    "    order = HouseBlend()"
   ]
  },
  {
   "cell_type": "code",
   "execution_count": 9,
   "metadata": {},
   "outputs": [
    {
     "name": "stdout",
     "output_type": "stream",
     "text": [
      "Filter Brewed - Dark roasted coffee\n"
     ]
    }
   ],
   "source": [
    "print(order.description())"
   ]
  },
  {
   "cell_type": "markdown",
   "metadata": {},
   "source": [
    "### Add code\n",
    "- First add your factory\n",
    "- Now create a new menu system\n",
    "- What is different when you add another beverage type?\n",
    "- How would you support adding condiments with the menu?"
   ]
  },
  {
   "cell_type": "code",
   "execution_count": 10,
   "metadata": {},
   "outputs": [],
   "source": [
    "import ipywidgets as widgets\n",
    "import time\n",
    "from IPython.display import display"
   ]
  },
  {
   "cell_type": "code",
   "execution_count": 11,
   "metadata": {},
   "outputs": [],
   "source": [
    "class CoffeeShop:\n",
    "    def __init__(self, factory):\n",
    "        self._factory = factory\n",
    "        \n",
    "    def order_coffee(self, coffee_type):\n",
    "        coffee = self._factory.create_coffee(coffee_type)\n",
    "        \n",
    "        coffee.prepare()\n",
    "        coffee.brew()\n",
    "        coffee.serve()\n",
    "        \n",
    "        return coffee"
   ]
  },
  {
   "cell_type": "code",
   "execution_count": 12,
   "metadata": {},
   "outputs": [],
   "source": [
    "class CoffeeFactory:\n",
    "    \n",
    "    def create_coffee(self, coffee_type):\n",
    "        coffee = None\n",
    "        \n",
    "        if coffee_type == 'DarkRoast':\n",
    "            coffee = DarkRoast()\n",
    "        elif coffee_type == 'Decaf':\n",
    "            coffee == Decaf()\n",
    "        elif coffee_type == 'Espresso':\n",
    "            coffee == Espresso()\n",
    "        elif coffee_type == 'HouseBlend':\n",
    "            coffee == HouseBlend()\n",
    "        elif coffee_type == 'IcedDarkRoast':\n",
    "            coffee = IcedDarkRoast()\n",
    "        elif coffee_type == 'IcedDecaf':\n",
    "            coffee == IcedDecaf()\n",
    "        elif coffee_type == 'IcedEspresso':\n",
    "            coffee == IcedEspresso()\n",
    "        elif coffee_type == 'IcedHouseBlend':\n",
    "            coffee == IcedHouseBlend()\n",
    "            \n",
    "        return coffee"
   ]
  },
  {
   "cell_type": "code",
   "execution_count": 13,
   "metadata": {},
   "outputs": [],
   "source": [
    "class Coffee(metaclass = abc.ABCMeta):\n",
    "    \n",
    "    @abc.abstractmethod\n",
    "    def __init__(self):\n",
    "        pass\n",
    "    \n",
    "    def get_name(self):\n",
    "        return self._name\n",
    "    \n",
    "    def prepare(self):\n",
    "        print('Preparing ingredients for ' + self._name)\n",
    "        \n",
    "    def brew(self):\n",
    "        brewing = widgets.IntProgress(value=0, min=0, max=self._brewing_time, \n",
    "                                      description='Brewing:')\n",
    "        display(brewing)\n",
    "        for i in range(brewing.min, brewing.max):\n",
    "            brewing.value += 1\n",
    "            time.sleep(0.01)\n",
    "            if brewing.value == brewing.max:\n",
    "                brewing.bar_style = 'success'\n",
    "                brewing.description = 'Complete!'\n",
    "        \n",
    "    def serve(self):\n",
    "        print('Serving ' + self._name)\n",
    "        \n",
    "\n",
    "class IcedCoffee(metaclass = abc.ABCMeta):\n",
    "    \n",
    "    @abc.abstractmethod\n",
    "    def __init__(self):\n",
    "        pass\n",
    "    \n",
    "    def get_name(self):\n",
    "        return self._name\n",
    "    \n",
    "    def prepare(self):\n",
    "        print('Preparing ingredients for ' + self._name)\n",
    "        \n",
    "    def brew(self):\n",
    "        brewing = widgets.IntProgress(value=0, min=0, max=self._brewing_time, \n",
    "                                      description='Brewing:')\n",
    "        display(brewing)\n",
    "        for i in range(brewing.min, brewing.max):\n",
    "            brewing.value += 1\n",
    "            time.sleep(0.01)\n",
    "            if brewing.value == brewing.max:\n",
    "                brewing.bar_style = 'success'\n",
    "                brewing.description = 'Complete!'\n",
    "        \n",
    "    def serve(self):\n",
    "        print('Serving ' + self._name)"
   ]
  },
  {
   "cell_type": "code",
   "execution_count": 14,
   "metadata": {},
   "outputs": [],
   "source": [
    "class DarkRoast(Coffee):\n",
    "    \n",
    "    def __init__(self):\n",
    "        self._name = 'Dark Roast'\n",
    "        self._condiments = []\n",
    "        self._brewing_time = 500\n",
    "    \n",
    "    def description(self):\n",
    "        return 'Filter Brewed - Dark roasted coffee'\n",
    "\n",
    "class Decaf(Coffee):\n",
    "    \n",
    "    def __init__(self):\n",
    "        self._name = 'Decaf'\n",
    "        self._condiments = []\n",
    "        self._brewing_time = 300\n",
    "    \n",
    "    def description(self):\n",
    "        return 'Filter Brewed - terrible fake coffee'\n",
    "    \n",
    "class Espresso(Coffee):\n",
    "    \n",
    "    def __init__(self):\n",
    "        self._name = 'Espresso'\n",
    "        self._condiments = []\n",
    "        self._brewing_time = 600\n",
    "    \n",
    "    def description(self):\n",
    "        return 'Filter Brewed - Espresso'\n",
    "    \n",
    "class HouseBlend(Coffee):\n",
    "    \n",
    "    def __init__(self):\n",
    "        self._name = 'House Blend'\n",
    "        self._condiments = []\n",
    "        self._brewing_time = 500\n",
    "    \n",
    "    def description(self):\n",
    "        return 'Filter Brewed - House Blend coffee'"
   ]
  },
  {
   "cell_type": "code",
   "execution_count": 15,
   "metadata": {},
   "outputs": [],
   "source": [
    "class IcedDarkRoast(IcedCoffee):\n",
    "    \n",
    "    def __init__(self):\n",
    "        self._name = 'Iced Dark Roast'\n",
    "        self._condiments = []\n",
    "        self._brewing_time = 500\n",
    "    \n",
    "    def description(self):\n",
    "        return 'Dark roasted iced coffee'\n",
    "\n",
    "class IcedDecaf(IcedCoffee):\n",
    "    \n",
    "    def __init__(self):\n",
    "        self._name = 'Iced Decaf'\n",
    "        self._condiments = []\n",
    "        self._brewing_time = 300\n",
    "    \n",
    "    def description(self):\n",
    "        return 'Terrible fake coffee - iced'\n",
    "    \n",
    "class IcedEspresso(IcedCoffee):\n",
    "    \n",
    "    def __init__(self):\n",
    "        self._name = 'Iced Espresso'\n",
    "        self._condiments = []\n",
    "        self._brewing_time = 600\n",
    "    \n",
    "    def description(self):\n",
    "        return 'Iced Espresso'\n",
    "    \n",
    "class IcedHouseBlend(IcedCoffee):\n",
    "    \n",
    "    def __init__(self):\n",
    "        self._name = 'Iced House Blend'\n",
    "        self._condiments = []\n",
    "        self._brewing_time = 500\n",
    "    \n",
    "    def description(self):\n",
    "        return 'House Blend iced coffee'\n",
    "    "
   ]
  },
  {
   "cell_type": "code",
   "execution_count": 16,
   "metadata": {},
   "outputs": [],
   "source": [
    "factory = CoffeeFactory()\n",
    "store = CoffeeShop(factory)"
   ]
  },
  {
   "cell_type": "code",
   "execution_count": 17,
   "metadata": {
    "scrolled": true
   },
   "outputs": [
    {
     "name": "stdout",
     "output_type": "stream",
     "text": [
      "Preparing ingredients for Iced Dark Roast\n"
     ]
    },
    {
     "data": {
      "application/vnd.jupyter.widget-view+json": {
       "model_id": "c6c75b69db574423ba6ecf3f2c30b123",
       "version_major": 2,
       "version_minor": 0
      },
      "text/plain": [
       "IntProgress(value=0, description='Brewing:', max=500)"
      ]
     },
     "metadata": {},
     "output_type": "display_data"
    },
    {
     "name": "stdout",
     "output_type": "stream",
     "text": [
      "Serving Iced Dark Roast\n"
     ]
    }
   ],
   "source": [
    "coffee = store.order_coffee('IcedDarkRoast')"
   ]
  },
  {
   "cell_type": "code",
   "execution_count": null,
   "metadata": {},
   "outputs": [],
   "source": []
  },
  {
   "cell_type": "code",
   "execution_count": null,
   "metadata": {},
   "outputs": [],
   "source": []
  },
  {
   "cell_type": "code",
   "execution_count": null,
   "metadata": {},
   "outputs": [],
   "source": []
  },
  {
   "cell_type": "code",
   "execution_count": null,
   "metadata": {},
   "outputs": [],
   "source": []
  },
  {
   "cell_type": "code",
   "execution_count": null,
   "metadata": {},
   "outputs": [],
   "source": []
  },
  {
   "cell_type": "code",
   "execution_count": null,
   "metadata": {},
   "outputs": [],
   "source": []
  },
  {
   "cell_type": "code",
   "execution_count": null,
   "metadata": {},
   "outputs": [],
   "source": []
  },
  {
   "cell_type": "code",
   "execution_count": null,
   "metadata": {},
   "outputs": [],
   "source": []
  },
  {
   "cell_type": "code",
   "execution_count": null,
   "metadata": {},
   "outputs": [],
   "source": []
  },
  {
   "cell_type": "code",
   "execution_count": null,
   "metadata": {},
   "outputs": [],
   "source": []
  },
  {
   "cell_type": "code",
   "execution_count": null,
   "metadata": {},
   "outputs": [],
   "source": []
  }
 ],
 "metadata": {
  "kernelspec": {
   "display_name": "Python 3",
   "language": "python",
   "name": "python3"
  },
  "language_info": {
   "codemirror_mode": {
    "name": "ipython",
    "version": 3
   },
   "file_extension": ".py",
   "mimetype": "text/x-python",
   "name": "python",
   "nbconvert_exporter": "python",
   "pygments_lexer": "ipython3",
   "version": "3.7.4"
  }
 },
 "nbformat": 4,
 "nbformat_minor": 2
}
