{
 "cells": [
  {
   "cell_type": "markdown",
   "metadata": {},
   "source": [
    "### Tutorial Five - The Strategy Pattern\n",
    "This notebook requires you to complete the missing parts of the Jupyter notebook. This will include comments in markdown, or completing code for the outline classes that is provided. When you are done you will (hopefully) be able to:\n",
    "- Create an implementation of the Strategy Pattern for your own class hierarchy design\n",
    "- Understand all the underlying steps in the use of this pattern\n"
   ]
  },
  {
   "cell_type": "markdown",
   "metadata": {},
   "source": [
    "### A New Design\n",
    "Think of a class structure for a problem where you believe the strategy pattern would be useful. This can be a high-level example (conceptual) hierarchy similar to the wizards and warriows one used in class.\n",
    "\n",
    "Document the high level design choices for your high level design. This could be in the form of a picture or even just a list of parts of your design that should stay the same vs parts that will vary. It is vital at this stage to try to keep your overall design simple in order to focus on the pattern we are trying to learn, and not on the overall application you think would be needed as your contextual environment.\n",
    "\n",
    "### Implementation\n",
    "Using the above design (or list) as reference, write your code:\n",
    "1.\tImport the needed library\n",
    "2.\tCreate the abstract class (classes) you will use as your “Interface”\n",
    "3.\tProvide at least 2 concrete implementations for each of these abstract classes\n",
    "4.\tInstantiate 1 instance of each concrete implementation\n",
    "5.\tCreate a superclass that is composed with these “interfaces”\n",
    "6.\tCreate at least two different subclasses that derives from the above superclass\n",
    "7.\tInstantiate objects from these subclasses\n",
    "8.\tTest these objects to ensure the behaviours differ as planned\n",
    "\n",
    "### Document\n",
    "Reflect on the strategy pattern and its possible uses. Ensure that you understand, and feel comfortable, with each of the terms that have been emphasised in the list above. A solid understanding of these terminology will make understanding OOP principles in general much easier in future.\n",
    "\n",
    "You are encouraged to put your thoughts on where / how it will be used in your reflective journal."
   ]
  },
  {
   "cell_type": "code",
   "execution_count": 8,
   "metadata": {},
   "outputs": [],
   "source": [
    "import abc\n",
    "\n",
    "class RestaurantStrategy:\n",
    "    __metaclass__ = abc.ABCMeta\n",
    "    \n",
    "    @abc.abstractmethod\n",
    "    def food(self):\n",
    "        '''Required'''\n",
    "    \n",
    "    @abc.abstractmethod\n",
    "    def drink(self):\n",
    "        '''Required'''\n",
    "    \n",
    "\n",
    "    \n",
    "class FancyRestaurant(RestaurantStrategy):\n",
    "    def food(self):\n",
    "        return 'Fancy food'\n",
    "    \n",
    "    def drink(self):\n",
    "        return 'Fancy drink'\n",
    "    \n",
    "class CheapRestaurant(RestaurantStrategy):\n",
    "    def food(self):\n",
    "        return 'Cheap food'\n",
    "    \n",
    "    def drink(self):\n",
    "        return 'Cheap drink'\n",
    "    "
   ]
  },
  {
   "cell_type": "code",
   "execution_count": 9,
   "metadata": {},
   "outputs": [],
   "source": [
    "fancy = FancyRestaurant()\n",
    "cheap = CheapRestaurant()"
   ]
  },
  {
   "cell_type": "code",
   "execution_count": 10,
   "metadata": {},
   "outputs": [],
   "source": [
    "class Restaurant():\n",
    "    def __init__(self, restaurant_strategy, name, restaurant_type):\n",
    "        self.restaurant_strategy = restaurant_strategy\n",
    "        self.name = name\n",
    "        self.food_items = []\n",
    "        self.drink_items = []\n",
    "        self.restaurant_type = restaurant_type\n",
    "    \n",
    "    @property\n",
    "    def describe(self):\n",
    "        return '{} is a {}, {} restaurant.'.format(self.name, \n",
    "                                                   self.restaurant_strategy, \n",
    "                                                   self.restaurant_type)\n",
    "    \n",
    "    @property\n",
    "    def menu(self):\n",
    "        return 'The {} menu!\\nMeals: {}\\nDrinks: {}.'.format(self.name, \n",
    "                                                             ', '.join(self.food_items), \n",
    "                                                             ', '.join(self.drink_items))\n",
    "    \n",
    "    \n",
    "    def food(self):\n",
    "        return 'The available meals are {}.'.format(', '.join(self.food_items))\n",
    "    \n",
    "    def add_food(self, new_food):\n",
    "        self.food_items.append(new_food)\n",
    "        \n",
    "    def delete_food(self):\n",
    "        self.food_items = []\n",
    "    \n",
    "    \n",
    "    def drink(self):\n",
    "        return 'The available drinks are {}.'.format(', '.join(self.drink_items))\n",
    "    \n",
    "    def add_drink(self, new_drink):\n",
    "        self.drink_items.append(new_drink)\n",
    "        \n",
    "    def delete_drink(self):\n",
    "        self.drink_items = []"
   ]
  },
  {
   "cell_type": "code",
   "execution_count": 11,
   "metadata": {},
   "outputs": [],
   "source": [
    "class Italian(Restaurant):\n",
    "    def __init__(self, name, price_group):\n",
    "        super().__init__(price_group, name, 'italian')\n",
    "        self.food_items = ['Lasagne', 'Carbonara', 'Bolognese']\n",
    "        self.drink_items = ['Red wine', 'White wine', 'Peroni']\n",
    "\n",
    "class Mexican(Restaurant):\n",
    "    def __init__(self, name, price_group):\n",
    "        super().__init__(price_group, name, 'mexican')\n",
    "        self.food_items = ['Taco', 'Enchilada', 'Burrito']\n",
    "        self.drink_items = ['Tequila', 'Margarita', 'Corona']\n",
    "        \n",
    "class Norwegian(Restaurant):\n",
    "    def __init__(self, name, price_group):\n",
    "        super().__init__(price_group, name, 'norwegian')\n",
    "        self.food_items = ['Lammecarré', 'Indrefilet av hjort', 'Skrei']\n",
    "        self.drink_items = ['Akevit', 'Rødvin', 'Fatøl']"
   ]
  },
  {
   "cell_type": "code",
   "execution_count": null,
   "metadata": {},
   "outputs": [],
   "source": []
  },
  {
   "cell_type": "code",
   "execution_count": 12,
   "metadata": {},
   "outputs": [],
   "source": [
    "lf = Italian('La Familia', 'fancy')\n",
    "lh = Mexican('Los Hermanos', 'cheap')\n",
    "hn = Norwegian('Hos Naboen', 'fancy')"
   ]
  },
  {
   "cell_type": "code",
   "execution_count": 13,
   "metadata": {},
   "outputs": [
    {
     "name": "stdout",
     "output_type": "stream",
     "text": [
      "La Familia is a fancy, italian restaurant. \n",
      "\n",
      "The La Familia menu!\n",
      "Meals: Lasagne, Carbonara, Bolognese\n",
      "Drinks: Red wine, White wine, Peroni. \n",
      "\n",
      "\n",
      "Los Hermanos is a cheap, mexican restaurant. \n",
      "\n",
      "The Los Hermanos menu!\n",
      "Meals: Taco, Enchilada, Burrito\n",
      "Drinks: Tequila, Margarita, Corona. \n",
      "\n",
      "\n",
      "Hos Naboen is a fancy, norwegian restaurant. \n",
      "\n",
      "The Hos Naboen menu!\n",
      "Meals: Lammecarré, Indrefilet av hjort, Skrei\n",
      "Drinks: Akevit, Rødvin, Fatøl. \n",
      "\n",
      "\n"
     ]
    }
   ],
   "source": [
    "print(lf.describe,'\\n')\n",
    "print(lf.menu,'\\n\\n')\n",
    "\n",
    "print(lh.describe,'\\n')\n",
    "print(lh.menu,'\\n\\n')\n",
    "\n",
    "print(hn.describe,'\\n')\n",
    "print(hn.menu,'\\n\\n')"
   ]
  },
  {
   "cell_type": "code",
   "execution_count": 14,
   "metadata": {},
   "outputs": [
    {
     "name": "stdout",
     "output_type": "stream",
     "text": [
      "The available drinks are Akevit, Rødvin, Fatøl.\n",
      "The available drinks are Akevit, Rødvin, Fatøl, Local beer, Imported beer.\n"
     ]
    }
   ],
   "source": [
    "print(hn.drink())\n",
    "hn.add_drink('Local beer')\n",
    "hn.add_drink('Imported beer')\n",
    "print(hn.drink())"
   ]
  },
  {
   "cell_type": "code",
   "execution_count": null,
   "metadata": {},
   "outputs": [],
   "source": []
  },
  {
   "cell_type": "code",
   "execution_count": null,
   "metadata": {},
   "outputs": [],
   "source": []
  },
  {
   "cell_type": "code",
   "execution_count": null,
   "metadata": {},
   "outputs": [],
   "source": []
  },
  {
   "cell_type": "code",
   "execution_count": null,
   "metadata": {},
   "outputs": [],
   "source": []
  },
  {
   "cell_type": "code",
   "execution_count": null,
   "metadata": {},
   "outputs": [],
   "source": []
  },
  {
   "cell_type": "code",
   "execution_count": null,
   "metadata": {},
   "outputs": [],
   "source": []
  },
  {
   "cell_type": "code",
   "execution_count": null,
   "metadata": {},
   "outputs": [],
   "source": []
  }
 ],
 "metadata": {
  "kernelspec": {
   "display_name": "Python 3",
   "language": "python",
   "name": "python3"
  },
  "language_info": {
   "codemirror_mode": {
    "name": "ipython",
    "version": 3
   },
   "file_extension": ".py",
   "mimetype": "text/x-python",
   "name": "python",
   "nbconvert_exporter": "python",
   "pygments_lexer": "ipython3",
   "version": "3.7.4"
  }
 },
 "nbformat": 4,
 "nbformat_minor": 2
}
