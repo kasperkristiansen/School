{
 "cells": [
  {
   "cell_type": "markdown",
   "metadata": {},
   "source": [
    "### Tutorial Six - The Strategy Pattern\n",
    "This notebook requires you to complete the missing parts of the Jupyter notebook. This will include comments in markdown, or completing code for the outline classes that is provided. When you are done you will (hopefully) be able to:\n",
    "- Understand the role of the \"context\" in a strategy pattern implementation"
   ]
  },
  {
   "cell_type": "markdown",
   "metadata": {},
   "source": [
    "### What is the \"Context\"?\n",
    "\n",
    "For a fun example please refer to \n",
    "https://www.geeksforgeeks.org/strategy-pattern-set-1/\n",
    "\n",
    "In the above linked example, the class diagram shows a class refered to as the \"context\". This class plays an important role in a strategy pattern implementation.\n",
    "The context is responsible for maintain a reference to one of teh concrete strategies (the one that is being used) and for communicating with this concrete strategy via the defined strategy interface. For another great example, refer to.\n",
    "https://refactoring.guru/design-patterns/strategy"
   ]
  },
  {
   "cell_type": "markdown",
   "metadata": {},
   "source": [
    "### Creating your own List\n",
    "\n",
    "Suppose you need a special kind of List class. This list should allow you to set the Sorting_Strategy for it underlying elements to different sorting algorithms. I.e. You might want to set it to a QuickSort, or to a BubbleSort.\n",
    "\n",
    "Your list might look something like this:\n",
    "\n",
    " class SortedList\n",
    " \n",
    " Propreties:\n",
    "  MyList (the internal list)\n",
    "  SortStrategy (a selected sort startegy that defaults to bubblesort)\n",
    "  \n",
    "  Methods:\n",
    "  SetSortStrategy (Changes the sort strategy)\n",
    "  Add (adds an item to the list)\n",
    "  Sort (Sorts the list)\n",
    "    \n",
    "If you implement the various sort algorithms using a Strategy Pattern approach, class SortedList would be the **context** for your strategy pattern. This is the class that other classes woudl reference when they use your code. The other classes using the list would not even know that a startegy pattern is used.\n",
    "\n",
    "#### Task\n",
    "Implement a simple version of the above class and use some of the sorting alogorithms you have written before to provide it with various strategies for its sorting behaviour"
   ]
  },
  {
   "cell_type": "code",
   "execution_count": 36,
   "metadata": {},
   "outputs": [],
   "source": [
    "import abc"
   ]
  },
  {
   "cell_type": "markdown",
   "metadata": {},
   "source": [
    "Import the abstract base class\n",
    "and create the SortStrategy class,\n",
    "with a single method sort."
   ]
  },
  {
   "cell_type": "code",
   "execution_count": 37,
   "metadata": {},
   "outputs": [],
   "source": [
    "class SortStrategy(metaclass = abc.ABCMeta):\n",
    "    \n",
    "    @abc.abstractmethod\n",
    "    def sort(self):\n",
    "        '''must have'''\n"
   ]
  },
  {
   "cell_type": "markdown",
   "metadata": {},
   "source": [
    "Now I implemented two classes, on for BubbleSort\n",
    "and one for QuickSort.\n",
    "(I got the sorting algorithms from a quick Google search..)"
   ]
  },
  {
   "cell_type": "code",
   "execution_count": 38,
   "metadata": {},
   "outputs": [],
   "source": [
    "class BubbleSort(SortStrategy):\n",
    "    def sort(self, mylist, low, high):\n",
    "        for num in range(len(mylist)-1,0,-1):\n",
    "            for i in range(num):\n",
    "                if mylist[i]>mylist[i+1]:\n",
    "                    temp = mylist[i]\n",
    "                    mylist[i] = mylist[i+1]\n",
    "                    mylist[i+1] = temp\n",
    "        return mylist"
   ]
  },
  {
   "cell_type": "code",
   "execution_count": 39,
   "metadata": {},
   "outputs": [],
   "source": [
    "class QuickSort(SortStrategy):\n",
    "    def partition(self, mylist, low, high): \n",
    "        i = (low-1)\n",
    "        pivot = mylist[high]\n",
    "  \n",
    "        for j in range(low, high): \n",
    "            if   mylist[j] <= pivot: \n",
    "                i = i+1 \n",
    "                mylist[i],mylist[j] = mylist[j],mylist[i] \n",
    "  \n",
    "        mylist[i+1],mylist[high] = mylist[high],mylist[i+1] \n",
    "        return (i+1)\n",
    "    \n",
    "    def sort(self, mylist, low, high): \n",
    "        if low < high: \n",
    "            pi = self.partition(mylist, low, high) \n",
    "\n",
    "            self.sort(mylist, low, pi-1)\n",
    "            self.sort(mylist, pi+1, high)"
   ]
  },
  {
   "cell_type": "markdown",
   "metadata": {},
   "source": [
    "Instance two objects.\n",
    "These will be called later, setting the sort strategy"
   ]
  },
  {
   "cell_type": "code",
   "execution_count": 40,
   "metadata": {},
   "outputs": [],
   "source": [
    "bubble = BubbleSort()\n",
    "quick = QuickSort()"
   ]
  },
  {
   "cell_type": "markdown",
   "metadata": {},
   "source": [
    "The SortedList class.\n",
    "Here the methods are defined for the actual\n",
    "class we want to use."
   ]
  },
  {
   "cell_type": "code",
   "execution_count": 41,
   "metadata": {},
   "outputs": [],
   "source": [
    "class SortedList:\n",
    "    \n",
    "    def __init__(self, sort_strategy=bubble):\n",
    "        self.mylist = []\n",
    "        self.sort_strategy = sort_strategy\n",
    "    \n",
    "    \n",
    "    def SetSortStrategy(self, sort_strategy):\n",
    "        self.sort_strategy = sort_strategy\n",
    "    \n",
    "    def add(self, item):\n",
    "        self.mylist.append(item)\n",
    "        \n",
    "    def sort(self):\n",
    "        self.sort_strategy.sort(self.mylist, 0, len(self.mylist)-1)\n",
    "        return self.mylist"
   ]
  },
  {
   "cell_type": "code",
   "execution_count": 42,
   "metadata": {},
   "outputs": [],
   "source": [
    "test = SortedList()"
   ]
  },
  {
   "cell_type": "markdown",
   "metadata": {},
   "source": [
    "Instance a new object from the SortedList class."
   ]
  },
  {
   "cell_type": "code",
   "execution_count": 43,
   "metadata": {},
   "outputs": [
    {
     "name": "stdout",
     "output_type": "stream",
     "text": [
      "<__main__.SortedList object at 0x10d314dd0>\n"
     ]
    }
   ],
   "source": [
    "print(test)"
   ]
  },
  {
   "cell_type": "markdown",
   "metadata": {},
   "source": [
    "Trying to print the object returns this^\n",
    "I have to instead print the actual list, test.mylist"
   ]
  },
  {
   "cell_type": "code",
   "execution_count": 44,
   "metadata": {},
   "outputs": [
    {
     "name": "stdout",
     "output_type": "stream",
     "text": [
      "[]\n",
      "[5, 10, 7, 4, 32, 12, 50, 2, 8, 31]\n"
     ]
    }
   ],
   "source": [
    "print(test.mylist)\n",
    "test.add(5)\n",
    "test.add(10)\n",
    "test.add(7)\n",
    "test.add(4)\n",
    "test.add(32)\n",
    "test.add(12)\n",
    "test.add(50)\n",
    "test.add(2)\n",
    "test.add(8)\n",
    "test.add(31)\n",
    "print(test.mylist)"
   ]
  },
  {
   "cell_type": "markdown",
   "metadata": {},
   "source": [
    "Using the add method from SortedList class \n",
    "to append some items to the list"
   ]
  },
  {
   "cell_type": "code",
   "execution_count": 45,
   "metadata": {},
   "outputs": [
    {
     "data": {
      "text/plain": [
       "[2, 4, 5, 7, 8, 10, 12, 31, 32, 50]"
      ]
     },
     "execution_count": 45,
     "metadata": {},
     "output_type": "execute_result"
    }
   ],
   "source": [
    "test.sort()"
   ]
  },
  {
   "cell_type": "markdown",
   "metadata": {},
   "source": [
    "The list is sorted correctly, \n",
    "indicating that BubbleSort works."
   ]
  },
  {
   "cell_type": "code",
   "execution_count": 46,
   "metadata": {},
   "outputs": [
    {
     "name": "stdout",
     "output_type": "stream",
     "text": [
      "[]\n"
     ]
    }
   ],
   "source": [
    "test.mylist = []\n",
    "print(test.mylist)"
   ]
  },
  {
   "cell_type": "markdown",
   "metadata": {},
   "source": [
    "Resetting the list, so I can try\n",
    "again using QuickSort"
   ]
  },
  {
   "cell_type": "code",
   "execution_count": 47,
   "metadata": {},
   "outputs": [],
   "source": [
    "test2 = SortedList()"
   ]
  },
  {
   "cell_type": "markdown",
   "metadata": {},
   "source": [
    "Actually, I decided to just make a new object for QuickSort"
   ]
  },
  {
   "cell_type": "code",
   "execution_count": 48,
   "metadata": {},
   "outputs": [
    {
     "name": "stdout",
     "output_type": "stream",
     "text": [
      "[15, 20, 10, 25, 4, 5, 1, 43, 31]\n"
     ]
    }
   ],
   "source": [
    "test2.add(15)\n",
    "test2.add(20)\n",
    "test2.add(10)\n",
    "test2.add(25)\n",
    "test2.add(4)\n",
    "test2.add(5)\n",
    "test2.add(1)\n",
    "test2.add(43)\n",
    "test2.add(31)\n",
    "print(test2.mylist)"
   ]
  },
  {
   "cell_type": "code",
   "execution_count": 49,
   "metadata": {},
   "outputs": [],
   "source": [
    "test2.SetSortStrategy(quick)"
   ]
  },
  {
   "cell_type": "code",
   "execution_count": 50,
   "metadata": {},
   "outputs": [
    {
     "data": {
      "text/plain": [
       "[1, 4, 5, 10, 15, 20, 25, 31, 43]"
      ]
     },
     "execution_count": 50,
     "metadata": {},
     "output_type": "execute_result"
    }
   ],
   "source": [
    "test2.sort()"
   ]
  },
  {
   "cell_type": "markdown",
   "metadata": {},
   "source": [
    "And the list is sorted correctly,\n",
    "indicating that the QuickSort works as well."
   ]
  },
  {
   "cell_type": "code",
   "execution_count": null,
   "metadata": {},
   "outputs": [],
   "source": []
  }
 ],
 "metadata": {
  "kernelspec": {
   "display_name": "Python 3",
   "language": "python",
   "name": "python3"
  },
  "language_info": {
   "codemirror_mode": {
    "name": "ipython",
    "version": 3
   },
   "file_extension": ".py",
   "mimetype": "text/x-python",
   "name": "python",
   "nbconvert_exporter": "python",
   "pygments_lexer": "ipython3",
   "version": "3.7.4"
  }
 },
 "nbformat": 4,
 "nbformat_minor": 2
}
