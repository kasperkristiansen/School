{
 "cells": [
  {
   "cell_type": "markdown",
   "metadata": {},
   "source": [
    "### Tutorial Three - Polymorphism and Overloading, OverRiding\n",
    "This notebook requires you to complete the missing parts of the Jupyter notebook. This will include comments in markdown, or completing code for the outline classes that is provided. When you are done you will (hopefully) be able to:\n",
    "- Create a class hierarchy with multiple levels of inheritance\n",
    "- Use Polymorphism to override methods and/or properties\n",
    "- Use operand overloading to make objects comparible to each other\n"
   ]
  },
  {
   "cell_type": "markdown",
   "metadata": {},
   "source": [
    "### A Deeper Object Hierarchy\n",
    "In the code block below createthe same hierarchy as yesterday (You may copy code from tut 2 into this one): \n",
    "\n",
    "class Shape:\n",
    "\n",
    "class Square(Shape):\n",
    "\n",
    "class Rectangle(Shape):\n",
    "\n",
    "class Triangle(Shape):\n",
    "\n",
    "Make sure the method to calculate area is placed in Shape and inherited by the sub-classes.\n",
    "Since Triangle will have a different formula to calculate the area **override** the method in triangle."
   ]
  },
  {
   "cell_type": "code",
   "execution_count": 3,
   "metadata": {},
   "outputs": [],
   "source": [
    "class Shape:\n",
    "    def __init__(self, height, width, shape):\n",
    "        self.height = height\n",
    "        self.width = width\n",
    "        self.shape = shape\n",
    "        self.set_area()\n",
    "        \n",
    "    def set_area(self):\n",
    "        self.area = self.height * self.width\n",
    "\n",
    "    def describe_shape(self):\n",
    "        return \"The {} has a height of {} and a width of {} and its total area = {}\".format(self.shape, self.height, self.width, self.area)\n",
    "        \n",
    "        \n",
    "class Square(Shape):\n",
    "    def __init__(self, height, width):\n",
    "        Shape.__init__(self, height, width, \"Square\")\n",
    "        \n",
    "class Rectangle(Shape):\n",
    "    def __init__(self, height, width):\n",
    "        Shape.__init__(self, height, width, \"Rectangle\")\n",
    "\n",
    "class Triangle(Shape):\n",
    "    def __init__(self, height, width):\n",
    "        Shape.__init__(self, height, width, \"Triangle\")\n",
    "    \n",
    "    def set_area(self):\n",
    "        self.area = (self.height * self.width) / 2\n",
    "        "
   ]
  },
  {
   "cell_type": "markdown",
   "metadata": {},
   "source": [
    "### Add another level\n",
    "Extend your hierarchy by adding\n",
    "\n",
    "\n",
    "class Diamond(Square):\n",
    " Diamond is a rectangle with an additional property *angle* that specifies the angle of one of its corners. The angle of all other corners can be calculated from this. Supply diamond with appropriate input validation to ensure angle is never set to \"silly\" values"
   ]
  },
  {
   "cell_type": "code",
   "execution_count": 4,
   "metadata": {},
   "outputs": [
    {
     "name": "stdout",
     "output_type": "stream",
     "text": [
      "The angles of the diamond are 62, 62, 118.0 and 118.0 degrees.\n",
      "The given angle makes no sence. Angle set to 90 degrees.\n",
      "The angles of the diamond are 90, 90, 90.0 and 90.0 degrees.\n"
     ]
    }
   ],
   "source": [
    "class Diamond(Square):\n",
    "    def __init__(self, height, width, angle):\n",
    "        Square.__init__(self, height, width)\n",
    "        self.shape = \"Diamond\"\n",
    "        if 0 < angle < 360:\n",
    "            self.angle = angle\n",
    "        else:\n",
    "            print(\"The given angle makes no sence. Angle set to 90 degrees.\")\n",
    "            self.angle = 90\n",
    "\n",
    "    def describe_shape(self):\n",
    "        return \"The angles of the diamond are {}, {}, {} and {} degrees.\".format(self.angle, self.angle, (360-self.angle-self.angle)/2, (360-self.angle-self.angle)/2)\n",
    "        \n",
    "        \n",
    "test1 = Diamond(11, 13, 62)\n",
    "print(test1.describe_shape())\n",
    "test2 = Diamond(20, 10, 365)\n",
    "print(test2.describe_shape())"
   ]
  },
  {
   "cell_type": "markdown",
   "metadata": {},
   "source": [
    "### Now Overload and improve\n",
    "Class Square lacks certain features we need. Copy Square here and change its code to add the ability to determine whether two squares are equal to each other, or whether one is larger or smaller than the other. A square should be seen as larger if it has a larger area.\n",
    "\n",
    "A GREAT tutorial on how to do this is available at https://www.geeksforgeeks.org/operator-overloading-in-python/\n",
    "\n",
    "**Test the above by creating a python List of squares and then sorting the list.**\n",
    "\n",
    "Note: Do not change the name of class Square"
   ]
  },
  {
   "cell_type": "code",
   "execution_count": 5,
   "metadata": {},
   "outputs": [],
   "source": [
    "class Square(Shape):\n",
    "    def __init__(self, height, width):\n",
    "        Shape.__init__(self, height, width, \"Square\")\n",
    "        \n",
    "    def __gt__(self, x):\n",
    "        if(self.area > x.area):\n",
    "            return True\n",
    "        else:\n",
    "            return False\n",
    "    \n",
    "    def __lt__(self, x):\n",
    "        if(self.area < x.area):\n",
    "            return True\n",
    "        else:\n",
    "            return False\n",
    "    \n",
    "    def __eq__(self, x):\n",
    "        if(self.area == x.area):\n",
    "            return True\n",
    "        else:\n",
    "            return False\n",
    "        "
   ]
  },
  {
   "cell_type": "code",
   "execution_count": 6,
   "metadata": {},
   "outputs": [
    {
     "name": "stdout",
     "output_type": "stream",
     "text": [
      "bigger\n"
     ]
    }
   ],
   "source": [
    "big = Square(45, 45)\n",
    "small = Square(15, 15)\n",
    "\n",
    "if big>small :\n",
    "    print(\"bigger\")\n",
    "elif big<small:\n",
    "    print(\"smaller\")\n",
    "elif big==small:\n",
    "    print(\"equal\")\n"
   ]
  },
  {
   "cell_type": "code",
   "execution_count": 12,
   "metadata": {},
   "outputs": [
    {
     "name": "stdout",
     "output_type": "stream",
     "text": [
      "[400, 1600, 100, 2500, 900]\n",
      "[100, 400, 900, 1600, 2500]\n"
     ]
    }
   ],
   "source": [
    "s1 = Square(10, 10)\n",
    "s2 = Square(20, 20)\n",
    "s3 = Square(30, 30)\n",
    "s4 = Square(40, 40)\n",
    "s5 = Square(50, 50)\n",
    "\n",
    "s_list = [s2.area, s4.area, s1.area, s5.area, s3.area]\n",
    "print(s_list)\n",
    "\n",
    "for i in s_list:\n",
    "    index = 0\n",
    "    for i in s_list:\n",
    "        while index < 4:\n",
    "            if s_list[index]<s_list[index+1]:\n",
    "                index += 1\n",
    "            elif s_list[index]>s_list[index+1]:\n",
    "                temp = s_list[index]\n",
    "                s_list[index] = s_list[index+1]\n",
    "                s_list[index+1] = temp\n",
    "                index += 1\n",
    "            elif [index]==[index+1]:\n",
    "                index += 1\n",
    "\n",
    "print(s_list)"
   ]
  },
  {
   "cell_type": "markdown",
   "metadata": {},
   "source": [
    "### What to reflect on\n",
    "The following is ideas for your reflective journal. You are welcome to add your own reflection, but these are some key things I think would benefit you to reflect on.\n",
    "\n",
    "- If you create a new version of diamond AFTER you improved Square, will it automatically also support comparison?\n",
    "\n",
    "- What is the best place to add such overloaded operators in your hierarchy"
   ]
  },
  {
   "cell_type": "code",
   "execution_count": 14,
   "metadata": {},
   "outputs": [
    {
     "ename": "TypeError",
     "evalue": "'>' not supported between instances of 'Diamond' and 'Diamond'",
     "output_type": "error",
     "traceback": [
      "\u001b[1;31m---------------------------------------------------------------------------\u001b[0m",
      "\u001b[1;31mTypeError\u001b[0m                                 Traceback (most recent call last)",
      "\u001b[1;32m<ipython-input-14-b9ae687f4350>\u001b[0m in \u001b[0;36m<module>\u001b[1;34m\u001b[0m\n\u001b[0;32m      2\u001b[0m \u001b[0md2\u001b[0m \u001b[1;33m=\u001b[0m \u001b[0mDiamond\u001b[0m\u001b[1;33m(\u001b[0m\u001b[1;36m20\u001b[0m\u001b[1;33m,\u001b[0m \u001b[1;36m40\u001b[0m\u001b[1;33m,\u001b[0m \u001b[1;36m45\u001b[0m\u001b[1;33m)\u001b[0m\u001b[1;33m\u001b[0m\u001b[1;33m\u001b[0m\u001b[0m\n\u001b[0;32m      3\u001b[0m \u001b[1;33m\u001b[0m\u001b[0m\n\u001b[1;32m----> 4\u001b[1;33m \u001b[1;32mif\u001b[0m \u001b[0md1\u001b[0m\u001b[1;33m>\u001b[0m\u001b[0md2\u001b[0m \u001b[1;33m:\u001b[0m\u001b[1;33m\u001b[0m\u001b[1;33m\u001b[0m\u001b[0m\n\u001b[0m\u001b[0;32m      5\u001b[0m     \u001b[0mprint\u001b[0m\u001b[1;33m(\u001b[0m\u001b[1;34m\"bigger\"\u001b[0m\u001b[1;33m)\u001b[0m\u001b[1;33m\u001b[0m\u001b[1;33m\u001b[0m\u001b[0m\n\u001b[0;32m      6\u001b[0m \u001b[1;32melif\u001b[0m \u001b[0md1\u001b[0m\u001b[1;33m<\u001b[0m\u001b[0md2\u001b[0m\u001b[1;33m:\u001b[0m\u001b[1;33m\u001b[0m\u001b[1;33m\u001b[0m\u001b[0m\n",
      "\u001b[1;31mTypeError\u001b[0m: '>' not supported between instances of 'Diamond' and 'Diamond'"
     ]
    }
   ],
   "source": [
    "d1 = Diamond(20, 60, 45)\n",
    "d2 = Diamond(20, 40, 45)\n",
    "\n",
    "if d1>d2 :\n",
    "    print(\"bigger\")\n",
    "elif d1<d2:\n",
    "    print(\"smaller\")\n",
    "elif d1==d2:\n",
    "    print(\"equal\")\n"
   ]
  },
  {
   "cell_type": "code",
   "execution_count": null,
   "metadata": {},
   "outputs": [],
   "source": []
  }
 ],
 "metadata": {
  "kernelspec": {
   "display_name": "Python 3",
   "language": "python",
   "name": "python3"
  },
  "language_info": {
   "codemirror_mode": {
    "name": "ipython",
    "version": 3
   },
   "file_extension": ".py",
   "mimetype": "text/x-python",
   "name": "python",
   "nbconvert_exporter": "python",
   "pygments_lexer": "ipython3",
   "version": "3.7.4"
  }
 },
 "nbformat": 4,
 "nbformat_minor": 2
}
