{
 "cells": [
  {
   "cell_type": "markdown",
   "metadata": {},
   "source": [
    "### Tutorial Four - The Strategy Pattern\n",
    "This notebook requires you to complete the missing parts of the Jupyter notebook. This will include comments in markdown, or completing code for the outline classes that is provided. When you are done you will (hopefully) be able to:\n",
    "- Create a simple implementation of the Strategy Pattern\n",
    "\n",
    "##### Note: This tutorial assumes that you previously did the Algorithms and Data Structures subject\n"
   ]
  },
  {
   "cell_type": "markdown",
   "metadata": {},
   "source": [
    "### Design Principle One\n",
    "The first design principle introduced is:\n",
    "\n",
    "*Identify the aspects of your application that vary and separate them from what stays the same.*\n",
    "\n",
    "You previously studied Stacks and Queues as ADTs. These types\\structures both have methods that look very similar.\n",
    "\n",
    "- Push - Adds a new item to the list\n",
    "- Peek - Returns the next item that would be removed from the list without removing it\n",
    "- Pop - Returns the next item from the list AND removes it\n",
    "\n",
    "Suppose you have to implement classes to provide your user (another programmer) with a Stack and a Queue. \n",
    "\n",
    "Can you identify the parts that will vary and thus has to be encapsulated? "
   ]
  },
  {
   "cell_type": "code",
   "execution_count": 1,
   "metadata": {},
   "outputs": [],
   "source": [
    "#Write the code that should stay the same for either list type here.\n",
    "#Give your behaviours appropriate names\n",
    "\n",
    "import abc\n",
    "\n",
    "class ListStrategy:\n",
    "    __metaclass__ = abc.ABCMeta\n",
    "    \n",
    "    @abc.abstractmethod\n",
    "    def push(self, data):\n",
    "        '''Must be implemented'''\n",
    "    \n",
    "    @abc.abstractmethod\n",
    "    def peek(self):\n",
    "        '''Must be implemented'''\n",
    "    \n",
    "    @abc.abstractmethod\n",
    "    def pop(self):\n",
    "        '''Must be implemented'''\n",
    "\n",
    "        \n",
    "class Node:\n",
    "    def __init__(self, data):\n",
    "        self.data = data\n",
    "        self.ref = None\n",
    "        \n",
    "\n",
    "class NewList(ListStrategy):\n",
    "    def __init__(self, data_type):\n",
    "        self.data_type = data_type\n",
    "        self.top = None\n",
    "        self.queue_items = []\n",
    "    \n",
    "    def push(self, data):\n",
    "        self.data_type.push(self, data)\n",
    "    \n",
    "    def peek(self):\n",
    "        self.data_type.peek(self)\n",
    "    \n",
    "    def pop(self):\n",
    "        self.data_type.pop(self)"
   ]
  },
  {
   "cell_type": "code",
   "execution_count": 2,
   "metadata": {},
   "outputs": [],
   "source": [
    "# Now creat a Stack\n",
    "\n",
    "class Stack(NewList):\n",
    "    def push(self, data):\n",
    "        new_node = Node(data)\n",
    "        new_node.ref = self.top\n",
    "        self.top = new_node\n",
    "        print('Pushing', self.top.data, 'to the Stack.')\n",
    "    \n",
    "    def peek(self):\n",
    "        if self.top is None:\n",
    "            print('Empty Stack')\n",
    "        else:\n",
    "            print('First item in stack is', self.top.data)\n",
    "    \n",
    "    def pop(self):\n",
    "        print('Popping,', self.top.data, 'from Stack.')\n",
    "        self.top = self.top.ref"
   ]
  },
  {
   "cell_type": "code",
   "execution_count": 3,
   "metadata": {},
   "outputs": [],
   "source": [
    "# And a Queue\n",
    "\n",
    "class Queue(NewList):\n",
    "    def push(self, data):\n",
    "        self.queue_items.append(data)\n",
    "        print('Pushing', data, 'to the Queue')\n",
    "    \n",
    "    def peek(self):\n",
    "        if self.queue_items == []:\n",
    "            print('Empty Queue')\n",
    "        else:\n",
    "            print('First item in queue is', self.queue_items[0])\n",
    "    \n",
    "    def pop(self):\n",
    "        print('Popping,', self.queue_items[0], 'from Queue.')\n",
    "        self.queue_items.pop(0)\n"
   ]
  },
  {
   "cell_type": "code",
   "execution_count": 4,
   "metadata": {},
   "outputs": [],
   "source": [
    "st = NewList(Stack)\n",
    "qu = NewList(Queue)"
   ]
  },
  {
   "cell_type": "code",
   "execution_count": 5,
   "metadata": {},
   "outputs": [
    {
     "name": "stdout",
     "output_type": "stream",
     "text": [
      "Empty Stack\n",
      "Pushing 777 to the Stack.\n",
      "Pushing 12 to the Stack.\n",
      "First item in stack is 12\n",
      "Pushing 44 to the Stack.\n",
      "Pushing 31 to the Stack.\n",
      "Pushing 9 to the Stack.\n",
      "First item in stack is 9\n",
      "Popping, 9 from Stack.\n",
      "First item in stack is 31\n"
     ]
    }
   ],
   "source": [
    "st.peek()\n",
    "st.push(777)\n",
    "st.push(12)\n",
    "st.peek()\n",
    "st.push(44)\n",
    "st.push(31)\n",
    "st.push(9)\n",
    "st.peek()\n",
    "st.pop()\n",
    "st.peek()"
   ]
  },
  {
   "cell_type": "code",
   "execution_count": 6,
   "metadata": {},
   "outputs": [
    {
     "name": "stdout",
     "output_type": "stream",
     "text": [
      "Empty Queue\n",
      "Pushing 22 to the Queue\n",
      "Pushing 44 to the Queue\n",
      "First item in queue is 22\n",
      "Pushing 1 to the Queue\n",
      "Pushing 5 to the Queue\n",
      "Pushing 499 to the Queue\n",
      "First item in queue is 22\n",
      "Popping, 22 from Queue.\n",
      "First item in queue is 44\n"
     ]
    }
   ],
   "source": [
    "qu.peek()\n",
    "qu.push(22)\n",
    "qu.push(44)\n",
    "qu.peek()\n",
    "qu.push(1)\n",
    "qu.push(5)\n",
    "qu.push(499)\n",
    "qu.peek()\n",
    "qu.pop()\n",
    "qu.peek()"
   ]
  },
  {
   "cell_type": "code",
   "execution_count": null,
   "metadata": {},
   "outputs": [],
   "source": []
  },
  {
   "cell_type": "code",
   "execution_count": null,
   "metadata": {},
   "outputs": [],
   "source": []
  }
 ],
 "metadata": {
  "kernelspec": {
   "display_name": "Python 3",
   "language": "python",
   "name": "python3"
  },
  "language_info": {
   "codemirror_mode": {
    "name": "ipython",
    "version": 3
   },
   "file_extension": ".py",
   "mimetype": "text/x-python",
   "name": "python",
   "nbconvert_exporter": "python",
   "pygments_lexer": "ipython3",
   "version": "3.7.4"
  }
 },
 "nbformat": 4,
 "nbformat_minor": 2
}
