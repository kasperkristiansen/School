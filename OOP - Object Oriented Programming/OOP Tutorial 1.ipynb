{
 "cells": [
  {
   "cell_type": "markdown",
   "metadata": {},
   "source": [
    "## Tutorial One - A first class (an objects) in Python\n",
    "This notebook requires you to complete the missing parts of the Jupyter notebook. This will include comments in markdown, or completing code for the outline classes that is provided. When you are done you will (hopefully) understand:\n",
    "- How to create a class\n",
    "- What a property is\n",
    "- What a method is\n",
    "- The difference between a class and an object"
   ]
  },
  {
   "cell_type": "markdown",
   "metadata": {},
   "source": [
    "### Study the class below and then run the code one cell at a time"
   ]
  },
  {
   "cell_type": "code",
   "execution_count": 1,
   "metadata": {},
   "outputs": [],
   "source": [
    "#A First Class\n",
    "class Square:\n",
    "\n",
    "    # Initializer / Instance Attributes\n",
    "    def __init__(self, height, width):\n",
    "        #These values below are called Instance Attributes\n",
    "        #At the most basic an instance attribute is a type of \n",
    "        #class PROPERTY\n",
    "        self.height = height\n",
    "        self.width = width\n",
    "        self.set_area()\n",
    "    \n",
    "    #The function below performs an action based on the value\n",
    "    #of properties in the class\n",
    "    #This is a METHOD\n",
    "    def set_area(self):\n",
    "        self.area = self.height*self.width\n",
    "    \n",
    "    #Is describe_square a METHOD? Or a PROPERTY?\n",
    "    def describe_square(self):\n",
    "        return \"The square has a height of {} and a width of {}\" \\\n",
    "                \" and its total area = {}\".format(self.height, self.width,self.area)\n",
    "    "
   ]
  },
  {
   "cell_type": "code",
   "execution_count": 2,
   "metadata": {},
   "outputs": [],
   "source": [
    "#The code below creates an OBJECT called s1\n",
    "#OBJECT s1 is an INSTANCE of the CLASS Square\n",
    "s1 = Square(10,20)"
   ]
  },
  {
   "cell_type": "code",
   "execution_count": 3,
   "metadata": {},
   "outputs": [],
   "source": [
    "s2 = Square(30,20)"
   ]
  },
  {
   "cell_type": "code",
   "execution_count": 4,
   "metadata": {},
   "outputs": [
    {
     "data": {
      "text/plain": [
       "'The square has a height of 30 and a width of 20 and its total area = 600'"
      ]
     },
     "execution_count": 4,
     "metadata": {},
     "output_type": "execute_result"
    }
   ],
   "source": [
    "#The code below INVOKES the METHOD describe_square on the OBJECT s2\n",
    "s2.describe_square()"
   ]
  },
  {
   "cell_type": "code",
   "execution_count": 5,
   "metadata": {},
   "outputs": [
    {
     "data": {
      "text/plain": [
       "'The square has a height of 10 and a width of 20 and its total area = 200'"
      ]
     },
     "execution_count": 5,
     "metadata": {},
     "output_type": "execute_result"
    }
   ],
   "source": [
    "#Note that the results for describe_square is differant \n",
    "#for s1 than for s2. Each OBJECT exist in its own memory space\n",
    "s1.describe_square()\n"
   ]
  },
  {
   "cell_type": "markdown",
   "metadata": {},
   "source": [
    "### Now its your turn to write a class\n",
    "\n",
    "Write a class called **Circle**. This class should have a single property called **radius**. Class Circle should have a method called\n",
    "**set_area** and a method called **describe_circle** that is similar to what you used in class Square. \n",
    "The formula to calculate the area of a circle can be found using Google.\n",
    "\n",
    "HINT: You will need to **import math** and use math.pi "
   ]
  },
  {
   "cell_type": "code",
   "execution_count": 10,
   "metadata": {},
   "outputs": [],
   "source": [
    "#Your class should be written here\n",
    "import math\n",
    "\n",
    "class Circle:\n",
    "    def __init__(self, radius):\n",
    "        self.radius = radius\n",
    "        self.set_area()\n",
    "        \n",
    "    def set_area(self):\n",
    "        self.area = math.pi*(self.radius**2)\n",
    "    \n",
    "    def describe_circle(self):\n",
    "        return \"The circle has a radius of {} and a diameter of {} \"\\\n",
    "               \"and its total area = {}\".format(self.radius, self.radius*2, self.area)"
   ]
  },
  {
   "cell_type": "code",
   "execution_count": 11,
   "metadata": {},
   "outputs": [
    {
     "data": {
      "text/plain": [
       "'The circle has a radius of 10 and a diameter of 20 and its total area = 314.1592653589793'"
      ]
     },
     "execution_count": 11,
     "metadata": {},
     "output_type": "execute_result"
    }
   ],
   "source": [
    "#This code should work if you wrote your class correctly\n",
    "c1 = Circle(10)\n",
    "c1.describe_circle()"
   ]
  },
  {
   "cell_type": "markdown",
   "metadata": {},
   "source": [
    "### What to reflect on\n",
    "The following is ideas for your reflective journal. You are welcome to add your own reflection, but these are some key things I think would benefit you to reflect on.\n",
    "\n",
    "What is the difference between a class and an object?\n",
    "\n",
    "Why is it important to keep these concepts seperate in your mind?\n",
    "\n",
    "Can you think of an existing class that you have used before in python? Tell me about the class, what properties did you use, what methods?"
   ]
  },
  {
   "cell_type": "markdown",
   "metadata": {},
   "source": [
    "A class is a template that allows for the creation of objects. Objects are in other words instances of a class. \n",
    "There are also methods, which are class functions, and can perform various tasks that take instance attributes as parameters.\n",
    "Some classes that we have used in previous courses include math, time, random and so on."
   ]
  }
 ],
 "metadata": {
  "kernelspec": {
   "display_name": "Python 3",
   "language": "python",
   "name": "python3"
  },
  "language_info": {
   "codemirror_mode": {
    "name": "ipython",
    "version": 3
   },
   "file_extension": ".py",
   "mimetype": "text/x-python",
   "name": "python",
   "nbconvert_exporter": "python",
   "pygments_lexer": "ipython3",
   "version": "3.7.3"
  }
 },
 "nbformat": 4,
 "nbformat_minor": 2
}
