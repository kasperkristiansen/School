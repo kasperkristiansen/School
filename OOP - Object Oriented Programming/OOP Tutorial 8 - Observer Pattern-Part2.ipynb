{
 "cells": [
  {
   "cell_type": "markdown",
   "metadata": {},
   "source": [
    "## The Observer Pattern - Part 2"
   ]
  },
  {
   "cell_type": "markdown",
   "metadata": {},
   "source": [
    "The purpose of this tutorial is to practice using the observer pattern for more complex asynchronous interaction between objects."
   ]
  },
  {
   "cell_type": "markdown",
   "metadata": {},
   "source": [
    "#### Task 1 - Create a Subject and Observer \"contract\"\n",
    "Create a set of abstract classes for a \"normal\" subject / observer contract"
   ]
  },
  {
   "cell_type": "code",
   "execution_count": 60,
   "metadata": {},
   "outputs": [],
   "source": [
    "import abc\n",
    "\n",
    "class Subject(metaclass=abc.ABCMeta):\n",
    "    \n",
    "    @abc.abstractmethod\n",
    "    def registerObserver(self):\n",
    "        '''something'''\n",
    "        \n",
    "    @abc.abstractmethod\n",
    "    def removeObserver(self):\n",
    "        '''something'''\n",
    "        \n",
    "    @abc.abstractmethod\n",
    "    def _notifyObservers(self):\n",
    "        '''something'''\n",
    "        \n",
    "        \n",
    "class Observer(metaclass=abc.ABCMeta):\n",
    "        \n",
    "    def __init__(self):\n",
    "        self._observer_state = None\n",
    "    \n",
    "    @abc.abstractmethod\n",
    "    def update(self, arg):\n",
    "        '''something'''"
   ]
  },
  {
   "cell_type": "markdown",
   "metadata": {},
   "source": [
    "#### Task 2 - Create concrete classes using the previous interfaces"
   ]
  },
  {
   "cell_type": "code",
   "execution_count": 61,
   "metadata": {},
   "outputs": [],
   "source": [
    "class ConcreteSubject(Subject):\n",
    "    \n",
    "    def __init__(self):\n",
    "        self._observers = set()\n",
    "        self._subject_state = None\n",
    "    \n",
    "    def registerObserver(self, observer):\n",
    "        observer.subject = self\n",
    "        self._observers.add(observer)\n",
    "        \n",
    "    def removeObserver(self, observer):\n",
    "        observer.subject = None\n",
    "        self._observers.discard(observer)\n",
    "      \n",
    "    def _notifyObservers(self):\n",
    "        for observer in self._observers:\n",
    "            observer.update(self._subject_state)\n",
    "\n",
    "    @property\n",
    "    def subject_state(self):\n",
    "        return self._subject_state\n",
    "    \n",
    "    @subject_state.setter\n",
    "    def subject_state(self, arg):\n",
    "        self._subject_state = arg\n",
    "        self._notifyObservers()\n",
    "        \n",
    "\n",
    "class ConcreteObserver(Observer):\n",
    "    \n",
    "    def update(self, arg):\n",
    "        self._observer_state = arg"
   ]
  },
  {
   "cell_type": "markdown",
   "metadata": {},
   "source": [
    "#### Task 3 New interfaces\n",
    "Create another set of subject / observer interfaces where the observers use a different method (i.e. update_different) for its update\n",
    "\n",
    "Take note of the parts that changes vs what stays the same. "
   ]
  },
  {
   "cell_type": "code",
   "execution_count": 62,
   "metadata": {},
   "outputs": [],
   "source": [
    "class Subject2(metaclass=abc.ABCMeta):\n",
    "    \n",
    "    @abc.abstractmethod\n",
    "    def registerObserver(self):\n",
    "        '''something'''\n",
    "        \n",
    "    @abc.abstractmethod\n",
    "    def removeObserver(self):\n",
    "        '''something'''\n",
    "        \n",
    "    @abc.abstractmethod\n",
    "    def _notifyObservers(self):\n",
    "        '''something'''\n",
    "        \n",
    "        \n",
    "class Observer2(metaclass=abc.ABCMeta):\n",
    "        \n",
    "    def __init__(self):\n",
    "        self._observer_state = None\n",
    "    \n",
    "    @abc.abstractmethod\n",
    "    def update2(self, arg):\n",
    "        '''something'''"
   ]
  },
  {
   "cell_type": "markdown",
   "metadata": {},
   "source": [
    "#### Task 4 - Create concrete classes using the different subject / observer interfaces"
   ]
  },
  {
   "cell_type": "code",
   "execution_count": 65,
   "metadata": {},
   "outputs": [],
   "source": [
    "class ConcreteSubject2(Subject2):\n",
    "    \n",
    "    def __init__(self):\n",
    "        self._observers = set()\n",
    "        self._subject_state = None\n",
    "    \n",
    "    def registerObserver(self, observer):\n",
    "        observer.subject = self\n",
    "        self._observers.add(observer)\n",
    "        \n",
    "    def removeObserver(self, observer):\n",
    "        observer.subject = None\n",
    "        self._observers.discard(observer)\n",
    "      \n",
    "    def _notifyObservers(self):\n",
    "        for observer in self._observers:\n",
    "            observer.update2(self._subject_state)\n",
    "\n",
    "    @property\n",
    "    def subject_state(self):\n",
    "        return self._subject_state\n",
    "    \n",
    "    @subject_state.setter\n",
    "    def subject_state(self, arg):\n",
    "        self._subject_state = arg\n",
    "        self._notifyObservers()\n",
    "        \n",
    "\n",
    "class ConcreteObserver2(Observer2):\n",
    "    \n",
    "    def update2(self, arg):\n",
    "        self._observer_state = arg"
   ]
  },
  {
   "cell_type": "markdown",
   "metadata": {},
   "source": [
    "#### Task 5 - Test the above two approaches"
   ]
  },
  {
   "cell_type": "code",
   "execution_count": 66,
   "metadata": {},
   "outputs": [],
   "source": [
    "sub1 = ConcreteSubject()\n",
    "obs1 = ConcreteObserver()\n",
    "\n",
    "sub2 = ConcreteSubject2()\n",
    "obs2 = ConcreteObserver2()\n"
   ]
  },
  {
   "cell_type": "code",
   "execution_count": 67,
   "metadata": {},
   "outputs": [
    {
     "name": "stdout",
     "output_type": "stream",
     "text": [
      "None\n",
      "None\n",
      "None\n",
      "None\n"
     ]
    }
   ],
   "source": [
    "sub1.registerObserver(obs1)\n",
    "sub2.registerObserver(obs2)\n",
    "\n",
    "print(sub1._subject_state)\n",
    "print(sub2._subject_state)\n",
    "print(obs1._observer_state)\n",
    "print(obs2._observer_state)"
   ]
  },
  {
   "cell_type": "code",
   "execution_count": 68,
   "metadata": {},
   "outputs": [
    {
     "name": "stdout",
     "output_type": "stream",
     "text": [
      "15000\n",
      "33000\n",
      "15000\n",
      "33000\n"
     ]
    }
   ],
   "source": [
    "sub1.subject_state = 15000\n",
    "sub2.subject_state = 33000\n",
    "\n",
    "print(sub1._subject_state)\n",
    "print(sub2._subject_state)\n",
    "print(obs1._observer_state)\n",
    "print(obs2._observer_state)"
   ]
  },
  {
   "cell_type": "code",
   "execution_count": null,
   "metadata": {},
   "outputs": [],
   "source": []
  },
  {
   "cell_type": "markdown",
   "metadata": {},
   "source": [
    "#### Task 6 - Create a concrete observer that uses BOTH above interfaces at the same time\n",
    "\n"
   ]
  },
  {
   "cell_type": "code",
   "execution_count": 69,
   "metadata": {},
   "outputs": [],
   "source": [
    "class ConcreteObserver3(Observer, Observer2):\n",
    "    \n",
    "    def update3(self, arg):\n",
    "        self._observer_state = arg"
   ]
  },
  {
   "cell_type": "markdown",
   "metadata": {},
   "source": [
    "#### Task 7 - Test and reflect\n",
    "Test the above classes and reflect on ways in which these sould be useful in your own designs. What would be the strengths or weaknesses of this approach?"
   ]
  },
  {
   "cell_type": "code",
   "execution_count": 70,
   "metadata": {},
   "outputs": [
    {
     "ename": "TypeError",
     "evalue": "Can't instantiate abstract class ConcreteObserver3 with abstract methods update, update2",
     "output_type": "error",
     "traceback": [
      "\u001b[0;31m---------------------------------------------------------------------------\u001b[0m",
      "\u001b[0;31mTypeError\u001b[0m                                 Traceback (most recent call last)",
      "\u001b[0;32m<ipython-input-70-ff71f3886dab>\u001b[0m in \u001b[0;36m<module>\u001b[0;34m\u001b[0m\n\u001b[1;32m      2\u001b[0m \u001b[0msub4\u001b[0m \u001b[0;34m=\u001b[0m \u001b[0mConcreteSubject2\u001b[0m\u001b[0;34m(\u001b[0m\u001b[0;34m)\u001b[0m\u001b[0;34m\u001b[0m\u001b[0;34m\u001b[0m\u001b[0m\n\u001b[1;32m      3\u001b[0m \u001b[0;34m\u001b[0m\u001b[0m\n\u001b[0;32m----> 4\u001b[0;31m \u001b[0mobs3\u001b[0m \u001b[0;34m=\u001b[0m \u001b[0mConcreteObserver3\u001b[0m\u001b[0;34m(\u001b[0m\u001b[0;34m)\u001b[0m\u001b[0;34m\u001b[0m\u001b[0;34m\u001b[0m\u001b[0m\n\u001b[0m",
      "\u001b[0;31mTypeError\u001b[0m: Can't instantiate abstract class ConcreteObserver3 with abstract methods update, update2"
     ]
    }
   ],
   "source": [
    "sub3 = ConcreteSubject()\n",
    "sub4 = ConcreteSubject2()\n",
    "\n",
    "obs3 = ConcreteObserver3()"
   ]
  },
  {
   "cell_type": "code",
   "execution_count": 58,
   "metadata": {},
   "outputs": [],
   "source": []
  },
  {
   "cell_type": "code",
   "execution_count": null,
   "metadata": {},
   "outputs": [],
   "source": []
  },
  {
   "cell_type": "code",
   "execution_count": null,
   "metadata": {},
   "outputs": [],
   "source": []
  }
 ],
 "metadata": {
  "kernelspec": {
   "display_name": "Python 3",
   "language": "python",
   "name": "python3"
  },
  "language_info": {
   "codemirror_mode": {
    "name": "ipython",
    "version": 3
   },
   "file_extension": ".py",
   "mimetype": "text/x-python",
   "name": "python",
   "nbconvert_exporter": "python",
   "pygments_lexer": "ipython3",
   "version": "3.7.4"
  }
 },
 "nbformat": 4,
 "nbformat_minor": 2
}
