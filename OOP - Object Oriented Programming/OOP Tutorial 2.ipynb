{
 "cells": [
  {
   "cell_type": "markdown",
   "metadata": {},
   "source": [
    "## Tutorial Two - Inheritance and Documentation\n",
    "This notebook requires you to complete the missing parts of the Jupyter notebook. This will include comments in markdown, or completing code for the outline classes that is provided. When you are done you will (hopefully) be able to:\n",
    "- Create a class hierarchy\n",
    "- Inherit the properties and methods from a class when deriving a new class\n",
    "- Understand how a message signature looks and how that relates to the concept of an interface\n",
    "- Understand basic access modifiers\n",
    "- Document a class with 'docstrings'"
   ]
  },
  {
   "cell_type": "markdown",
   "metadata": {},
   "source": [
    "### Introducing docstrings\n",
    "In programming, a docstring is a string literal specified in source code that is used, like a comment, to document a specific segment of code. Unlike conventional source code comments, or even specifically formatted comments like Javadoc documentation, docstrings are not stripped from the source tree when it is parsed and are retained throughout the runtime of the program. This allows the programmer to inspect these comments at run time, for instance as an interactive help system, or as metadata. -- Wikipedia"
   ]
  },
  {
   "cell_type": "markdown",
   "metadata": {},
   "source": [
    "#### Examine the following class\n",
    "Pay attention to the strings inside the class, and specifically to how these are indented. Also note that three double quotes in a row allows the string to span multiple lines. \n",
    "\n",
    "When you are done examining the code. Try to run the python help() command for class Point."
   ]
  },
  {
   "cell_type": "code",
   "execution_count": null,
   "metadata": {},
   "outputs": [],
   "source": [
    "import math\n",
    "class Point:\n",
    "    \"Represents a point in two-dimensional geometric coordinates\"\n",
    "    \n",
    "    def __init__(self, x=0, y=0):\n",
    "        \"\"\"Initialize the position of a new point. The x and y\n",
    "        coordinates can be specified. If they are not, the\n",
    "        point defaults to the origin.\"\"\"\n",
    "        self.move(x, y)\n",
    "        \n",
    "    def move(self, x, y):\n",
    "        \"Move the point to a new location in 2D space.\"\n",
    "        self.x = x\n",
    "        self.y = y\n",
    "        \n",
    "    def reset(self):\n",
    "        \"Reset the point back to the geometric origin: 0, 0\"\n",
    "        self.move(0, 0)\n",
    "        \n",
    "    def calculate_distance(self, other_point):\n",
    "        \"\"\"Calculate the distance from this point to a second\n",
    "        point passed as a parameter.\n",
    "        This function uses the Pythagorean Theorem to calculate\n",
    "        the distance between the two points. The distance is\n",
    "        returned as a float.\"\"\"\n",
    "        return math.sqrt(\n",
    "            (self.x - other_point.x) ** 2\n",
    "            + (self.y - other_point.y) ** 2\n",
    "        )"
   ]
  },
  {
   "cell_type": "code",
   "execution_count": null,
   "metadata": {},
   "outputs": [],
   "source": [
    "# Run the help() command for point here\n",
    "help()"
   ]
  },
  {
   "cell_type": "markdown",
   "metadata": {},
   "source": [
    "#### Signatures and interfaces\n",
    "Examine the help output above. For each method the signature of that method is listed. For example \n",
    "\n",
    "move(self, x, y)\n",
    "\n",
    "The above *signature* tells you that the class has a method called move, and that move requires two input parameters in addition to the class itself. "
   ]
  },
  {
   "cell_type": "markdown",
   "metadata": {},
   "source": [
    "### A First Object Hierarchy\n",
    "Examine the class below. Suppose we wanted to use multiple shapes. We want a class square, class rectangle, and class triangle. All of these classes will have a height and width property. ALl of these will have a formula to calculate the area. \n",
    "\n",
    "**Define a class called Shape and put the common attributes inside shape.**\n",
    "\n",
    "**Now derive class square, rectangle and triangle from shape.**"
   ]
  },
  {
   "cell_type": "code",
   "execution_count": 75,
   "metadata": {},
   "outputs": [],
   "source": [
    "class Shape:\n",
    "    def __init__(self, height, width, shape):\n",
    "        self.height = height\n",
    "        self.width = width\n",
    "        self.shape = shape\n",
    "        self.set_area()\n",
    "        \n",
    "    def set_area(self):\n",
    "        if self.shape == \"Square\" or self.shape == \"Rectangle\":\n",
    "            self.area = self.height * self.width\n",
    "        elif self.shape == \"Triangle\":\n",
    "            self.area = (self.height * self.width) / 2\n",
    "\n",
    "    def describe_shape(self):\n",
    "        return \"The {} has a height of {} and a width of {} and its total area = {}\".format(self.shape, self.height, self.width, self.area)\n",
    "        \n",
    "        \n",
    "class Square(Shape):\n",
    "    def __init__(self, height, width):\n",
    "        Shape.__init__(self, height, width, \"Square\")\n",
    "        \n",
    "class Rectangle(Shape):\n",
    "    def __init__(self, height, width):\n",
    "        Shape.__init__(self, height, width, \"Rectangle\")\n",
    "\n",
    "class Triangle(Shape):\n",
    "    def __init__(self, height, width):\n",
    "        Shape.__init__(self, height, width, \"Triangle\")\n",
    "        "
   ]
  },
  {
   "cell_type": "code",
   "execution_count": 76,
   "metadata": {},
   "outputs": [
    {
     "name": "stdout",
     "output_type": "stream",
     "text": [
      "The Triangle has a height of 10 and a width of 15 and its total area = 75.0\n",
      "The Rectangle has a height of 29 and a width of 21 and its total area = 609\n",
      "The Square has a height of 52 and a width of 23 and its total area = 1196\n"
     ]
    }
   ],
   "source": [
    "triangle1 = Triangle(10, 15)\n",
    "rectangle1 = Rectangle(29, 21)\n",
    "square1 = Square(52, 23)\n",
    "\n",
    "print(triangle1.describe_shape())\n",
    "print(rectangle1.describe_shape())\n",
    "print(square1.describe_shape())"
   ]
  },
  {
   "cell_type": "markdown",
   "metadata": {},
   "source": [
    "### Access modifiers\n",
    "It might be possible for a user to access your classes' width and height properties directly.\n",
    "Change these properties so that they are private and add property methods to allow the user to set them"
   ]
  },
  {
   "cell_type": "code",
   "execution_count": 34,
   "metadata": {},
   "outputs": [],
   "source": [
    "class Shape:\n",
    "    def __init__(self, height, width, shape):\n",
    "        self.__height = height\n",
    "        self.__width = width\n",
    "        self.shape = shape\n",
    "        self.set_area()\n",
    "        \n",
    "    def set_area(self):\n",
    "        if self.shape == \"Square\" or self.shape == \"Rectangle\":\n",
    "            self.__area = self.__height * self.__width\n",
    "        elif self.shape == \"Triangle\":\n",
    "            self.__area = (self.__height * self.__width) / 2\n",
    "        \n",
    "    def describe_shape(self):\n",
    "        return \"The {} has a height of {} and a width of {} and\" \\\n",
    "               \"its total area = {}\".format(self.shape, self.__height, self.__width, self.__area)\n",
    "        \n",
    "        \n",
    "class Square(Shape):\n",
    "    def __init__(self, height, width):\n",
    "        Shape.__init__(self, height, width, \"Square\")\n",
    "        \n",
    "class Rectangle(Shape):\n",
    "    def __init__(self, height, width):\n",
    "        Shape.__init__(self, height, width, \"Rectangle\")\n",
    "        \n",
    "class Triangle(Shape):\n",
    "    def __init__(self, height, width):\n",
    "        Shape.__init__(self, height, width, \"Triangle\")\n",
    "        \n"
   ]
  },
  {
   "cell_type": "code",
   "execution_count": 35,
   "metadata": {
    "scrolled": true
   },
   "outputs": [
    {
     "name": "stdout",
     "output_type": "stream",
     "text": [
      "The Triangle has a height of 10 and a width of 15 andits total area = 75.0\n",
      "The Rectangle has a height of 29 and a width of 21 andits total area = 609\n",
      "The Square has a height of 52 and a width of 23 andits total area = 1196\n",
      "10\n",
      "1196\n"
     ]
    }
   ],
   "source": [
    "triangle1 = Triangle(10, 15)\n",
    "rectangle1 = Rectangle(29, 21)\n",
    "square1 = Square(52, 23)\n",
    "\n",
    "print(triangle1.describe_shape())\n",
    "print(rectangle1.describe_shape())\n",
    "print(square1.describe_shape())\n",
    "\n",
    "print(triangle1._Shape__height)\n",
    "print(square1._Shape__area)"
   ]
  },
  {
   "cell_type": "markdown",
   "metadata": {},
   "source": [
    "### What to reflect on\n",
    "The following is ideas for your reflective journal. You are welcome to add your own reflection, but these are some key things I think would benefit you to reflect on.\n",
    "\n",
    "What method signatures have you used before in python?\n",
    "\n",
    "How would you use access modifiers and property methods to make your own classes more robust?\n",
    "\n",
    "Can you think of a few advantages of using docstrings in your own classes? "
   ]
  },
  {
   "cell_type": "markdown",
   "metadata": {},
   "source": [
    "Access modifiers is something I never really thought about, but now that I know about them I can see myself using them, or the need for them in all kinds of different programs. \n",
    "When it comes to docstrings, I have used them in my previous assignments and some other programs. They allow for comments to span multiple lines, and when the help() command is run on a function or class with docstrings, the docstring text is output in a nice and easily read format."
   ]
  }
 ],
 "metadata": {
  "kernelspec": {
   "display_name": "Python 3",
   "language": "python",
   "name": "python3"
  },
  "language_info": {
   "codemirror_mode": {
    "name": "ipython",
    "version": 3
   },
   "file_extension": ".py",
   "mimetype": "text/x-python",
   "name": "python",
   "nbconvert_exporter": "python",
   "pygments_lexer": "ipython3",
   "version": "3.7.3"
  }
 },
 "nbformat": 4,
 "nbformat_minor": 2
}
