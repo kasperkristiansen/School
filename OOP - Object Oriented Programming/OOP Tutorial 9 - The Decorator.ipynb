{
 "cells": [
  {
   "cell_type": "markdown",
   "metadata": {},
   "source": [
    "## Decorator Pattern\n",
    "The Decorator attach additional responsibilities to an object dynamically. Decorators provide a flexible alternative to subclassing for extending\n",
    "functionality.\n",
    "\n"
   ]
  },
  {
   "cell_type": "markdown",
   "metadata": {},
   "source": [
    "### Task\n",
    "\n",
    "The decorator is often difficult to understand without the aid of a working example. The following code for the example used in class is provided to ensure you have such an example.\n",
    "\n",
    "Your task is to create a new set of classes implementing the decorator for a different context as discussed below:\n",
    "\n",
    "#### Travel Claims\n",
    "In many organisations employees might be required to travel as part of their work. In such cases it is common practice to allow them to submit a receipt of expenses to claim back money spend on meals, taxi rides, etc. Usually an employee will submit several reciepts as part of a single trip.\n",
    "\n",
    "You task is to write a class Claim that will allow our bookeeping system's programmers to store and manipulate the data that is submitted for such a receipt. However, not all receipts are in our local currency. A receipt that was submitted for an expense in EUR, SEK, USD, GBP, etc must be converted to NOK before we can refund the claim. The exact rate at which such a conversion is done will change on a daily basis. \n",
    "\n",
    "According to company policy each claim should be refunded at the exchange rate for the day on which it is submitted. The decorator is perfect for this since an object cannot be \"unwrapped\" once the currency has been changed. \n",
    "\n",
    "Adapt the given example to implement such a claims object. Usually such an object would also contain code to lookup the daily currency exchange rates. However, for simplicity you may hardcode these rates for each supported currency."
   ]
  },
  {
   "cell_type": "code",
   "execution_count": 9,
   "metadata": {},
   "outputs": [],
   "source": [
    "import abc "
   ]
  },
  {
   "cell_type": "code",
   "execution_count": 10,
   "metadata": {},
   "outputs": [],
   "source": [
    "class Claim(metaclass=abc.ABCMeta):\n",
    "    \"\"\"\n",
    "    Define the interface for the Claims that can have responsibilities\n",
    "    added to them dynamically.\n",
    "    \"\"\"\n",
    "\n",
    "    @abc.abstractmethod\n",
    "    def cost(self):\n",
    "        pass\n",
    "    \n",
    "    @abc.abstractmethod\n",
    "    def description(self):\n",
    "        pass"
   ]
  },
  {
   "cell_type": "code",
   "execution_count": 11,
   "metadata": {},
   "outputs": [],
   "source": [
    "class Currency(Claim, metaclass=abc.ABCMeta):\n",
    "    \"\"\"\n",
    "    Maintain a reference to a Claim object and define an interface\n",
    "    that conforms to Claim's interface.\n",
    "    \"\"\"\n",
    "\n",
    "    def __init__(self, claim, currency):\n",
    "        self._claim = claim\n",
    "        self._currency = currency\n",
    "\n",
    "    @abc.abstractmethod\n",
    "    def cost(self):\n",
    "        pass\n",
    "\n",
    "    @abc.abstractmethod\n",
    "    def description(self):\n",
    "        pass"
   ]
  },
  {
   "cell_type": "code",
   "execution_count": 18,
   "metadata": {},
   "outputs": [],
   "source": [
    "class Taxi(Claim):\n",
    "    \"\"\"\n",
    "    Define an object to which additional responsibilities can be\n",
    "    attached.\n",
    "    A coffee to which extra condiments can be added\n",
    "    \"\"\"\n",
    "    def __init__(self, prize):\n",
    "        self.prize = prize\n",
    "    \n",
    "    def cost(self):\n",
    "        return self.prize\n",
    "\n",
    "    def description(self):\n",
    "        return \"Taxi\" \n",
    "\n",
    "    \n",
    "class Hotel(Claim):\n",
    "    def __init__(self, prize):\n",
    "        self.prize = prize\n",
    "    \n",
    "    def cost(self):\n",
    "        return self.prize\n",
    "\n",
    "    def description(self):\n",
    "        return \"Hotel\" \n",
    "    \n",
    "    \n",
    "class Meal(Claim):\n",
    "    def __init__(self, prize):\n",
    "        self.prize = prize\n",
    "    \n",
    "    def cost(self):\n",
    "        return self.prize\n",
    "\n",
    "    def description(self):\n",
    "        return \"Meal\" \n",
    "    "
   ]
  },
  {
   "cell_type": "code",
   "execution_count": 19,
   "metadata": {},
   "outputs": [],
   "source": [
    "class NOK(Currency):\n",
    "    \"\"\"\n",
    "    Add responsibilities to the component.\n",
    "    This is a condiment we can add to any beverage\n",
    "    \"\"\"\n",
    "\n",
    "    def cost(self):\n",
    "        # ...\n",
    "        return self._claim.cost() + (1.00 * self.prize)\n",
    "        # ...\n",
    "\n",
    "    def description(self):\n",
    "        return self._beverage.description() + \", {} NOK\".format(self.cost()) \n",
    "    \n",
    "    \n",
    "class USD(Currency):\n",
    "    \"\"\"\n",
    "    Add responsibilities to the component.\n",
    "    This is a condiment we can add to any beverage\n",
    "    \"\"\"\n",
    "\n",
    "    def cost(self):\n",
    "        # ...\n",
    "        return self._claim.cost() + (0.1 * self.prize)\n",
    "        # ...\n",
    "\n",
    "    def description(self):\n",
    "        return self._beverage.description() + \", {} NOK\".format(self.cost()) \n",
    "    \n",
    "class EUR(Currency):\n",
    "    \"\"\"\n",
    "    Add responsibilities to the component.\n",
    "    This is a condiment we can add to any beverage\n",
    "    \"\"\"\n",
    "\n",
    "    def cost(self):\n",
    "        # ...\n",
    "        return self._claim.cost() + (0.2 * self.prize)\n",
    "        # ...\n",
    "\n",
    "    def description(self):\n",
    "        return self._beverage.description() + \", {} NOK\".format(self.cost()) "
   ]
  },
  {
   "cell_type": "code",
   "execution_count": 25,
   "metadata": {},
   "outputs": [
    {
     "name": "stdout",
     "output_type": "stream",
     "text": [
      "2000\n",
      "Hotel\n"
     ]
    }
   ],
   "source": [
    "receipt1 = Hotel(2000)\n",
    "print(receipt1.cost())\n",
    "print(receipt1.description())"
   ]
  },
  {
   "cell_type": "code",
   "execution_count": null,
   "metadata": {},
   "outputs": [],
   "source": []
  },
  {
   "cell_type": "code",
   "execution_count": null,
   "metadata": {},
   "outputs": [],
   "source": []
  },
  {
   "cell_type": "markdown",
   "metadata": {},
   "source": [
    "### Import Libraries"
   ]
  },
  {
   "cell_type": "code",
   "execution_count": 1,
   "metadata": {},
   "outputs": [],
   "source": [
    "import abc "
   ]
  },
  {
   "cell_type": "markdown",
   "metadata": {},
   "source": [
    "### Define the component interface (abstract class) \n",
    "This is the component that you will want to extend with decorators later. In this example we will add condiments later to beverages. It is important to note that each method that will have extendable functionality must be declared here. In our case we want to add to both the description and the cost of the beverage ordered.\n"
   ]
  },
  {
   "cell_type": "code",
   "execution_count": 2,
   "metadata": {},
   "outputs": [],
   "source": [
    "class Beverage(metaclass=abc.ABCMeta):\n",
    "    \"\"\"\n",
    "    Define the interface for the Beverages that can have responsibilities\n",
    "    added to them dynamically.\n",
    "    \"\"\"\n",
    "\n",
    "    @abc.abstractmethod\n",
    "    def cost(self):\n",
    "        pass\n",
    "    \n",
    "    @abc.abstractmethod\n",
    "    def description(self):\n",
    "        pass   \n"
   ]
  },
  {
   "cell_type": "markdown",
   "metadata": {},
   "source": [
    "### Define the decorator interface (abstract class)\n",
    "This is the definition for a decorator that extends our component classes. In this example we will add condiments (decorators) later to beverages (components). It is important to note that the decorator is a sub-type of component but still abstract. Because it is a subtype it is *type matched* to the component class. However, it is abstract and thus only force us to match signatures of methods. This means we can add to the existing functionality in any way we want to!"
   ]
  },
  {
   "cell_type": "code",
   "execution_count": 3,
   "metadata": {},
   "outputs": [],
   "source": [
    "class Condiment(Beverage, metaclass=abc.ABCMeta):\n",
    "    \"\"\"\n",
    "    Maintain a reference to a Beverage object and define an interface\n",
    "    that conforms to Beverages's interface.\n",
    "    \"\"\"\n",
    "\n",
    "    def __init__(self, beverage):\n",
    "        self._beverage = beverage\n",
    "\n",
    "    @abc.abstractmethod\n",
    "    def cost(self):\n",
    "        pass\n",
    "    \n",
    "    @abc.abstractmethod\n",
    "    def description(self):\n",
    "        pass  "
   ]
  },
  {
   "cell_type": "markdown",
   "metadata": {},
   "source": [
    "### Define concrete component classes\n",
    "These are the implementations of our coffee classes"
   ]
  },
  {
   "cell_type": "code",
   "execution_count": 4,
   "metadata": {},
   "outputs": [],
   "source": [
    "class DarkRoast(Beverage):\n",
    "    \"\"\"\n",
    "    Define an object to which additional responsibilities can be\n",
    "    attached.\n",
    "    A coffee to which extra condiments can be added\n",
    "    \"\"\"\n",
    "\n",
    "    def cost(self):\n",
    "        return 20.00\n",
    "\n",
    "    def description(self):\n",
    "        return \"Dark roast coffee\" \n",
    "\n",
    "    \n",
    "class Decaf(Beverage):\n",
    "\n",
    "    def cost(self):\n",
    "        return 22.50\n",
    "\n",
    "    def description(self):\n",
    "        return \"Terrible fake coffee\" \n",
    "    \n",
    "class Espresso(Beverage):\n",
    "\n",
    "    def cost(self):\n",
    "        return 15.50\n",
    "\n",
    "    def description(self):\n",
    "        return \"Espresso\" \n",
    "    "
   ]
  },
  {
   "cell_type": "markdown",
   "metadata": {},
   "source": [
    "### Define concrete implementation of decorator classes\n",
    "These are the condiments. Note how each condiment first takes the functionality from its parent class and then extends it to add its own bit at the end. This happens in both the description and the cost methods. \n",
    "\n",
    "Also important it to note that we could have added the decorator first and then called the parent."
   ]
  },
  {
   "cell_type": "code",
   "execution_count": 5,
   "metadata": {},
   "outputs": [],
   "source": [
    "class Milk(Condiment):\n",
    "    \"\"\"\n",
    "    Add responsibilities to the component.\n",
    "    This is a condiment we can add to any beverage\n",
    "    \"\"\"\n",
    "\n",
    "    def cost(self):\n",
    "        # ...\n",
    "        return self._beverage.cost() + 1.00\n",
    "        # ...\n",
    "\n",
    "    def description(self):\n",
    "        return self._beverage.description() + \", milk\" \n",
    "    \n",
    "    \n",
    "class Mocha(Condiment):\n",
    "    \"\"\"\n",
    "    Add responsibilities to the component.\n",
    "    This is a condiment we can add to any beverage\n",
    "    \"\"\"\n",
    "\n",
    "    def cost(self):\n",
    "        # ...\n",
    "        return self._beverage.cost() + 1.55\n",
    "        # ...\n",
    "\n",
    "    def description(self):\n",
    "        return self._beverage.description() + \", mocha\" \n",
    "    \n",
    "class Whip(Condiment):\n",
    "    \"\"\"\n",
    "    Add responsibilities to the component.\n",
    "    This is a condiment we can add to any beverage\n",
    "    \"\"\"\n",
    "\n",
    "    def cost(self):\n",
    "        # ...\n",
    "        return self._beverage.cost() + 0.98\n",
    "        # ...\n",
    "\n",
    "    def description(self):\n",
    "        return self._beverage.description() + \", whip\" "
   ]
  },
  {
   "cell_type": "markdown",
   "metadata": {},
   "source": [
    "### Example of code using it\n",
    "This is a bad example to demonstrate all code work. This is not how we would call it usually. See the next example for a much better version"
   ]
  },
  {
   "cell_type": "code",
   "execution_count": 6,
   "metadata": {},
   "outputs": [
    {
     "name": "stdout",
     "output_type": "stream",
     "text": [
      "Dark roast coffee\n",
      "20.0\n",
      "Dark roast coffee, milk\n",
      "21.0\n",
      "Dark roast coffee, mocha\n",
      "21.55\n"
     ]
    }
   ],
   "source": [
    "    concrete_component = DarkRoast()\n",
    "    print(concrete_component.description())\n",
    "    print(concrete_component.cost())\n",
    "    concrete_decorator_a = Milk(concrete_component)\n",
    "    print(concrete_decorator_a.description())\n",
    "    print(concrete_decorator_a.cost())\n",
    "    concrete_decorator_b = Mocha(concrete_component)\n",
    "    print(concrete_decorator_b.description())\n",
    "    print(concrete_decorator_b.cost())"
   ]
  },
  {
   "cell_type": "markdown",
   "metadata": {},
   "source": [
    "### Good example of use\n",
    "Usually we would not have multiple objects just to decorate one! We would simply keep on adding decorators as needed. \n",
    "\n",
    "Note: It is important to note that we cannot \"unwrap\" this decorated obbject again!\n",
    "\n",
    "So if you plan to \"unwrap\" you have to keep a reference in a seperate object instance."
   ]
  },
  {
   "cell_type": "code",
   "execution_count": 7,
   "metadata": {},
   "outputs": [
    {
     "name": "stdout",
     "output_type": "stream",
     "text": [
      "Dark roast coffee, milk, milk, mocha\n",
      "23.55\n"
     ]
    }
   ],
   "source": [
    "order1 = DarkRoast()\n",
    "order1 = Milk(order1)\n",
    "order1 = Milk(order1)\n",
    "order1 = Mocha(order1)\n",
    "print(order1.description())\n",
    "print(order1.cost())"
   ]
  },
  {
   "cell_type": "code",
   "execution_count": null,
   "metadata": {},
   "outputs": [],
   "source": []
  }
 ],
 "metadata": {
  "kernelspec": {
   "display_name": "Python 3",
   "language": "python",
   "name": "python3"
  },
  "language_info": {
   "codemirror_mode": {
    "name": "ipython",
    "version": 3
   },
   "file_extension": ".py",
   "mimetype": "text/x-python",
   "name": "python",
   "nbconvert_exporter": "python",
   "pygments_lexer": "ipython3",
   "version": "3.7.4"
  }
 },
 "nbformat": 4,
 "nbformat_minor": 2
}
