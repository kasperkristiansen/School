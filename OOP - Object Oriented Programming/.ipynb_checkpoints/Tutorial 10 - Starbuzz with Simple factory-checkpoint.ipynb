{
 "cells": [
  {
   "cell_type": "markdown",
   "metadata": {},
   "source": [
    "### Tutorial 10 - Adding a Simple Factory to Starbuzz coffee\n",
    "\n",
    "The following code implements the Starbuzz coffee example used in class. This code uses user input to determine which component to implement. Add a factory to the design and delegate instatiation to the factory. Once it is working to your satisfaction, add another type of beverage and reflect on the necessary code changes. \n",
    "What did you gain by using the factory?"
   ]
  },
  {
   "cell_type": "code",
   "execution_count": 1,
   "metadata": {},
   "outputs": [],
   "source": [
    "import abc\n"
   ]
  },
  {
   "cell_type": "code",
   "execution_count": 2,
   "metadata": {},
   "outputs": [],
   "source": [
    "class Beverage(metaclass=abc.ABCMeta):\n",
    "   \n",
    "    @abc.abstractmethod\n",
    "    def cost(self):\n",
    "        pass\n",
    "    \n",
    "    @abc.abstractmethod\n",
    "    def description(self):\n",
    "        pass   "
   ]
  },
  {
   "cell_type": "code",
   "execution_count": 3,
   "metadata": {},
   "outputs": [],
   "source": [
    "class Condiment(Beverage, metaclass=abc.ABCMeta):\n",
    "    def __init__(self,beverage):\n",
    "        self._beverage = beverage\n",
    "        \n",
    "    @abc.abstractmethod\n",
    "    def cost(self):\n",
    "        pass\n",
    "    \n",
    "    @abc.abstractmethod\n",
    "    def description(self):\n",
    "        pass    "
   ]
  },
  {
   "cell_type": "code",
   "execution_count": 4,
   "metadata": {},
   "outputs": [],
   "source": [
    "class DarkRoast(Beverage):\n",
    "    \n",
    "    def cost(self):\n",
    "        return 20.00\n",
    "    \n",
    "    def description(self):\n",
    "        return \"Dark roasted coffee\""
   ]
  },
  {
   "cell_type": "code",
   "execution_count": 5,
   "metadata": {},
   "outputs": [],
   "source": [
    "class Decaf(Beverage):\n",
    "    \n",
    "    def cost(self):\n",
    "        return 21.50\n",
    "    \n",
    "    def description(self):\n",
    "        return \"Terrible fake coffee\" "
   ]
  },
  {
   "cell_type": "code",
   "execution_count": 6,
   "metadata": {},
   "outputs": [],
   "source": [
    "class Espresso(Beverage):\n",
    "    \n",
    "    def cost(self):\n",
    "        return 20.00\n",
    "    \n",
    "    def description(self):\n",
    "        return \"Espresso\""
   ]
  },
  {
   "cell_type": "code",
   "execution_count": 7,
   "metadata": {},
   "outputs": [],
   "source": [
    "class HouseBrand(Beverage):\n",
    "    \n",
    "    def cost(self):\n",
    "        return 18.00\n",
    "    \n",
    "    def description(self):\n",
    "        return \"House brand coffee\""
   ]
  },
  {
   "cell_type": "code",
   "execution_count": 8,
   "metadata": {},
   "outputs": [],
   "source": [
    "class Milk(Condiment):\n",
    "    \n",
    "    def cost(self):\n",
    "        return self._beverage.cost() + 0.50\n",
    "    \n",
    "    def description(self):\n",
    "        return self._beverage.description() + \", milk\" "
   ]
  },
  {
   "cell_type": "code",
   "execution_count": 9,
   "metadata": {},
   "outputs": [],
   "source": [
    "class Mocha(Condiment):\n",
    "    \n",
    "    def cost(self):\n",
    "        return self._beverage.cost() + 1.50\n",
    "    \n",
    "    def description(self):\n",
    "        return \"mocha, \" + self._beverage.description() "
   ]
  },
  {
   "cell_type": "code",
   "execution_count": 10,
   "metadata": {},
   "outputs": [],
   "source": [
    "class Whip(Condiment):\n",
    "    \n",
    "    def cost(self):\n",
    "        return self._beverage.cost() + 1.00\n",
    "    \n",
    "    def description(self):\n",
    "        return self._beverage.description() + \", whipped cream\" "
   ]
  },
  {
   "cell_type": "code",
   "execution_count": 11,
   "metadata": {},
   "outputs": [],
   "source": [
    "class Splenda(Condiment):\n",
    "    \n",
    "    def cost(self):\n",
    "        return self._beverage.cost() + 0.50\n",
    "    \n",
    "    def description(self):\n",
    "        return self._beverage.description() + \", splenda\" "
   ]
  },
  {
   "cell_type": "code",
   "execution_count": 12,
   "metadata": {},
   "outputs": [
    {
     "name": "stdout",
     "output_type": "stream",
     "text": [
      "Input desired coffee: 2\n"
     ]
    }
   ],
   "source": [
    "usr_input = input(\"Input desired coffee: \")\n",
    "while ((usr_input != '1') and (usr_input != '2')\n",
    "    and (usr_input != '3')and (usr_input != '4')):\n",
    "    usr_input = input(\"Input: \")\n",
    "\n",
    "if usr_input == '1':\n",
    "    order = DarkRoast()\n",
    "elif usr_input == '2':\n",
    "    order = Decaf()\n",
    "elif usr_input == '3':\n",
    "    order = Espresso()\n",
    "elif usr_input == '4':\n",
    "    order = HouseBlend()"
   ]
  },
  {
   "cell_type": "code",
   "execution_count": 13,
   "metadata": {},
   "outputs": [
    {
     "name": "stdout",
     "output_type": "stream",
     "text": [
      "Terrible fake coffee\n"
     ]
    }
   ],
   "source": [
    "print(order.description())"
   ]
  },
  {
   "cell_type": "markdown",
   "metadata": {},
   "source": [
    "### Add code\n",
    "- First add your factory\n",
    "- Now create a new menu system\n",
    "- What is different when you add another beverage type?\n",
    "- How would you support adding condiments with the menu?"
   ]
  },
  {
   "cell_type": "code",
   "execution_count": 14,
   "metadata": {},
   "outputs": [],
   "source": [
    "class CoffeeShop:\n",
    "    def __init__(self, factory):\n",
    "        self._factory = factory\n",
    "        \n",
    "    def order_coffee(self, coffee_type):\n",
    "        coffee = self._factory.create_coffee(coffee_type)\n",
    "        \n",
    "        coffee.prepare()\n",
    "        coffee.make()\n",
    "        coffee.serve()\n",
    "        \n",
    "        return coffee"
   ]
  },
  {
   "cell_type": "code",
   "execution_count": 15,
   "metadata": {},
   "outputs": [],
   "source": [
    "class SimpleCoffeeFactory:\n",
    "    \n",
    "    def create_coffee(self, coffee_type):\n",
    "        coffee = None\n",
    "        \n",
    "        if coffee_type == 'DarkRoast':\n",
    "            coffee = DarkRoast()\n",
    "        elif coffee_type == 'Decaf':\n",
    "            coffee = Decaf()\n",
    "        elif coffee_type == 'Espresso':\n",
    "            coffee = Espresso()\n",
    "        elif coffee_type == 'HouseBlend':\n",
    "            coffee = HouseBlend()\n",
    "            \n",
    "        return coffee"
   ]
  },
  {
   "cell_type": "code",
   "execution_count": 16,
   "metadata": {},
   "outputs": [],
   "source": [
    "class Coffee(metaclass = abc.ABCMeta):\n",
    "    \n",
    "    @abc.abstractmethod\n",
    "    def __init__(self):\n",
    "        pass\n",
    "    \n",
    "    def get_name(self):\n",
    "        return self._name\n",
    "    \n",
    "    def prepare(self):\n",
    "        print('Preparing ingredients for ' + self._name)\n",
    "        \n",
    "    def make(self):\n",
    "        print('Making ' + self._name)\n",
    "        \n",
    "    def serve(self):\n",
    "        print('Serving ' + self._name)\n",
    "        "
   ]
  },
  {
   "cell_type": "code",
   "execution_count": 17,
   "metadata": {},
   "outputs": [],
   "source": [
    "class DarkRoast(Coffee):\n",
    "    \n",
    "    def __init__(self):\n",
    "        self._name = 'Dark Roast'\n",
    "        self._condiments = []\n",
    "        \n",
    "    def description(self):\n",
    "        return 'Dark roasted coffee'\n",
    "    \n",
    "class Decaf(Coffee):\n",
    "    \n",
    "    def __init__(self):\n",
    "        self._name = 'Decaf'\n",
    "        self._condiments = []\n",
    "        \n",
    "    def description(self):\n",
    "        return 'Terrible fake coffee'\n",
    "        \n",
    "class Espresso(Coffee):\n",
    "    \n",
    "    def __init__(self):\n",
    "        self._name = 'Espresso'\n",
    "        self._condiments = []\n",
    "        \n",
    "    def description(self):\n",
    "        return 'Espresso'\n",
    "        \n",
    "class HouseBlend(Coffee):\n",
    "    \n",
    "    def __init__(self):\n",
    "        self._name = 'HouseBlend'\n",
    "        self._condiments = []\n",
    "        \n",
    "    def description(self):\n",
    "        return 'Delicious house blend coffee'"
   ]
  },
  {
   "cell_type": "code",
   "execution_count": 18,
   "metadata": {},
   "outputs": [],
   "source": [
    "factory = SimpleCoffeeFactory()\n",
    "store = CoffeeShop(factory)"
   ]
  },
  {
   "cell_type": "code",
   "execution_count": 19,
   "metadata": {},
   "outputs": [
    {
     "name": "stdout",
     "output_type": "stream",
     "text": [
      "Preparing ingredients for Dark Roast\n",
      "Making Dark Roast\n",
      "Serving Dark Roast\n",
      "Successfully ordered Dark Roast coffee.\n",
      "\n"
     ]
    }
   ],
   "source": [
    "coffee = store.order_coffee('DarkRoast')\n",
    "print('Successfully ordered {} coffee.\\n'.format(coffee.get_name()))"
   ]
  },
  {
   "cell_type": "code",
   "execution_count": 20,
   "metadata": {},
   "outputs": [
    {
     "name": "stdout",
     "output_type": "stream",
     "text": [
      "Preparing ingredients for Decaf\n",
      "Making Decaf\n",
      "Serving Decaf\n",
      "Successfully ordered Decaf coffee.\n",
      "\n"
     ]
    }
   ],
   "source": [
    "coffee1 = store.order_coffee('Decaf')\n",
    "print('Successfully ordered {} coffee.\\n'.format(coffee1.get_name()))"
   ]
  },
  {
   "cell_type": "code",
   "execution_count": 21,
   "metadata": {},
   "outputs": [],
   "source": [
    "#coffee_chosen = input('What do you want to order')"
   ]
  },
  {
   "cell_type": "code",
   "execution_count": 22,
   "metadata": {},
   "outputs": [
    {
     "data": {
      "application/vnd.jupyter.widget-view+json": {
       "model_id": "c35e8c4d4ea0477396128daea483ff33",
       "version_major": 2,
       "version_minor": 0
      },
      "text/plain": [
       "IntSlider(value=3, description='Slider:', max=10)"
      ]
     },
     "metadata": {},
     "output_type": "display_data"
    }
   ],
   "source": [
    "import ipywidgets as widgets\n",
    "\n",
    "widgets.IntSlider(\n",
    "    min=0,\n",
    "    max=10,\n",
    "    step=1,\n",
    "    description='Slider:',\n",
    "    value=3\n",
    ")"
   ]
  },
  {
   "cell_type": "code",
   "execution_count": 23,
   "metadata": {},
   "outputs": [
    {
     "data": {
      "application/vnd.jupyter.widget-view+json": {
       "model_id": "52a1fba5e38c48b098bc9c03478d4442",
       "version_major": 2,
       "version_minor": 0
      },
      "text/plain": [
       "IntSlider(value=5, description='Test', max=10)"
      ]
     },
     "metadata": {},
     "output_type": "display_data"
    }
   ],
   "source": [
    "from IPython.display import display\n",
    "\n",
    "test_slider = widgets.IntSlider(min=0, max=10, step=1, description='Test', value=5)\n",
    "display(test_slider)\n"
   ]
  },
  {
   "cell_type": "code",
   "execution_count": 24,
   "metadata": {},
   "outputs": [
    {
     "name": "stdout",
     "output_type": "stream",
     "text": [
      "5\n"
     ]
    }
   ],
   "source": [
    "print(test_slider.value)"
   ]
  },
  {
   "cell_type": "code",
   "execution_count": null,
   "metadata": {},
   "outputs": [],
   "source": []
  },
  {
   "cell_type": "code",
   "execution_count": 25,
   "metadata": {},
   "outputs": [],
   "source": [
    "dd_list = ['Yes', 'Bye', 'Hello', 'Bean Yoda']\n",
    "test_dd = widgets.Dropdown(options=dd_list, description='Hello', value='Bean Yoda')\n"
   ]
  },
  {
   "cell_type": "code",
   "execution_count": 26,
   "metadata": {},
   "outputs": [],
   "source": [
    "from PIL import Image\n",
    "\n",
    "image = Image.open('beanyoda.jpg')"
   ]
  },
  {
   "cell_type": "code",
   "execution_count": 27,
   "metadata": {},
   "outputs": [
    {
     "data": {
      "application/vnd.jupyter.widget-view+json": {
       "model_id": "d2d63c27693544ab81de6f9da130d51c",
       "version_major": 2,
       "version_minor": 0
      },
      "text/plain": [
       "Dropdown(description='Hello', index=3, options=('Yes', 'Bye', 'Hello', 'Bean Yoda'), value='Bean Yoda')"
      ]
     },
     "metadata": {},
     "output_type": "display_data"
    }
   ],
   "source": [
    "display(test_dd)\n"
   ]
  },
  {
   "cell_type": "code",
   "execution_count": 28,
   "metadata": {},
   "outputs": [
    {
     "name": "stdout",
     "output_type": "stream",
     "text": [
      "Hello\n"
     ]
    }
   ],
   "source": [
    "if test_dd.value == 'Bean Yoda':\n",
    "    image.show()\n",
    "else:\n",
    "    print(test_dd.value)"
   ]
  },
  {
   "cell_type": "code",
   "execution_count": 29,
   "metadata": {},
   "outputs": [
    {
     "name": "stdout",
     "output_type": "stream",
     "text": [
      "Welcome! \n",
      "What would you like to drink?\n"
     ]
    },
    {
     "data": {
      "application/vnd.jupyter.widget-view+json": {
       "model_id": "2e18119c2c2f4627bc7df48f6367922c",
       "version_major": 2,
       "version_minor": 0
      },
      "text/plain": [
       "Dropdown(description='Coffee', options=('Dark Roast', 'Decaf', 'Espresso', 'House Blend'), value='Dark Roast')"
      ]
     },
     "metadata": {},
     "output_type": "display_data"
    }
   ],
   "source": [
    "dd_options = ['Dark Roast', 'Decaf', 'Espresso', 'House Blend']\n",
    "dropdown = widgets.Dropdown(options=dd_options, description='Coffee')\n",
    "\n",
    "print('Welcome! \\nWhat would you like to drink?')\n",
    "display(dropdown)"
   ]
  },
  {
   "cell_type": "code",
   "execution_count": 30,
   "metadata": {},
   "outputs": [
    {
     "name": "stdout",
     "output_type": "stream",
     "text": [
      "Preparing ingredients for Espresso\n",
      "Making Espresso\n",
      "Serving Espresso\n"
     ]
    }
   ],
   "source": [
    "coffee = store.order_coffee(dropdown.value.replace(' ', ''))"
   ]
  },
  {
   "cell_type": "code",
   "execution_count": 31,
   "metadata": {},
   "outputs": [],
   "source": [
    "milk_option = widgets.BoundedIntText(value=0, min=0, max=10, step=1, description='Milk')\n",
    "mocha_option = widgets.BoundedIntText(value=0, min=0, max=10, step=1, description='Mocha')\n",
    "whip_option = widgets.BoundedIntText(value=0, min=0, max=10, step=1, description='Whipped cream')\n",
    "splenda_option = widgets.BoundedIntText(value=0, min=0, max=10, step=1, description='Splenda')"
   ]
  },
  {
   "cell_type": "code",
   "execution_count": 32,
   "metadata": {},
   "outputs": [
    {
     "data": {
      "application/vnd.jupyter.widget-view+json": {
       "model_id": "2b32b040517b49a9949a29d01c3a8cf3",
       "version_major": 2,
       "version_minor": 0
      },
      "text/plain": [
       "BoundedIntText(value=0, description='Milk', max=10)"
      ]
     },
     "metadata": {},
     "output_type": "display_data"
    },
    {
     "data": {
      "application/vnd.jupyter.widget-view+json": {
       "model_id": "e9f87d674aa54860ac79a1de08595f52",
       "version_major": 2,
       "version_minor": 0
      },
      "text/plain": [
       "BoundedIntText(value=0, description='Mocha', max=10)"
      ]
     },
     "metadata": {},
     "output_type": "display_data"
    },
    {
     "data": {
      "application/vnd.jupyter.widget-view+json": {
       "model_id": "ec84404c6e9c4c60a0b4187dd02bc424",
       "version_major": 2,
       "version_minor": 0
      },
      "text/plain": [
       "BoundedIntText(value=0, description='Whipped cream', max=10)"
      ]
     },
     "metadata": {},
     "output_type": "display_data"
    },
    {
     "data": {
      "application/vnd.jupyter.widget-view+json": {
       "model_id": "451b8e3337ea4b0588b7512b4a275eca",
       "version_major": 2,
       "version_minor": 0
      },
      "text/plain": [
       "BoundedIntText(value=0, description='Splenda', max=10)"
      ]
     },
     "metadata": {},
     "output_type": "display_data"
    }
   ],
   "source": [
    "display(milk_option)\n",
    "display(mocha_option)\n",
    "display(whip_option)\n",
    "display(splenda_option)"
   ]
  },
  {
   "cell_type": "code",
   "execution_count": 33,
   "metadata": {},
   "outputs": [],
   "source": [
    "condiment_option_list = [milk_option, mocha_option, whip_option, splenda_option]\n",
    "for i in condiment_option_list:\n",
    "    if i.value == 0:\n",
    "        pass\n",
    "    else:\n",
    "        if i.description == 'Milk':\n",
    "            for i in range(0, i.value):\n",
    "                coffee = Milk(coffee)\n",
    "        elif i.description == 'Mocha':\n",
    "            for i in range(0, i.value):\n",
    "                coffee = Mocha(coffee)\n",
    "        elif i.description == 'Whipped cream':\n",
    "            for i in range(0, i.value):\n",
    "                coffee = Whip(coffee)\n",
    "        elif i.description == 'Splenda':\n",
    "            for i in range(0, i.value):\n",
    "                coffee = Splenda(coffee)"
   ]
  },
  {
   "cell_type": "code",
   "execution_count": 34,
   "metadata": {},
   "outputs": [
    {
     "data": {
      "text/plain": [
       "'mocha, Espresso, milk, milk, splenda'"
      ]
     },
     "execution_count": 34,
     "metadata": {},
     "output_type": "execute_result"
    }
   ],
   "source": [
    "coffee.description()"
   ]
  },
  {
   "cell_type": "code",
   "execution_count": null,
   "metadata": {},
   "outputs": [],
   "source": []
  },
  {
   "cell_type": "code",
   "execution_count": null,
   "metadata": {},
   "outputs": [],
   "source": []
  },
  {
   "cell_type": "code",
   "execution_count": null,
   "metadata": {},
   "outputs": [],
   "source": []
  }
 ],
 "metadata": {
  "kernelspec": {
   "display_name": "Python 3",
   "language": "python",
   "name": "python3"
  },
  "language_info": {
   "codemirror_mode": {
    "name": "ipython",
    "version": 3
   },
   "file_extension": ".py",
   "mimetype": "text/x-python",
   "name": "python",
   "nbconvert_exporter": "python",
   "pygments_lexer": "ipython3",
   "version": "3.7.4"
  }
 },
 "nbformat": 4,
 "nbformat_minor": 2
}
