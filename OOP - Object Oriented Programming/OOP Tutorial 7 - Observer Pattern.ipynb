{
 "cells": [
  {
   "cell_type": "markdown",
   "metadata": {},
   "source": [
    "## The Observer Pattern"
   ]
  },
  {
   "cell_type": "markdown",
   "metadata": {},
   "source": [
    "Step 1 is to ensure the needed library has been imported"
   ]
  },
  {
   "cell_type": "code",
   "execution_count": 2,
   "metadata": {},
   "outputs": [],
   "source": [
    "import abc   "
   ]
  },
  {
   "cell_type": "markdown",
   "metadata": {},
   "source": [
    "## Define the Abstract Subject\n",
    "\n",
    "Define an interface for all classes that want to be subjects \n",
    "    (observable) using this pattern. \n",
    "    Must have methods to \n",
    " - registerObserver,\n",
    " - removeObserver, \n",
    " - notifyObserver\n",
    "    \n",
    "A subject should know its observers. Any number of Observer objects \n",
    "may observe a subject. A subject should send a notification to its observers when its state changes.\n"
   ]
  },
  {
   "cell_type": "code",
   "execution_count": 3,
   "metadata": {},
   "outputs": [],
   "source": [
    "class Subject(object):\n",
    "    __metaclass__ = abc.ABCMeta\n",
    "    \n",
    "    @abc.abstractmethod\n",
    "    def registerObserver(self):\n",
    "        '''something'''\n",
    "        \n",
    "    @abc.abstractmethod\n",
    "    def removeObserver(self):\n",
    "        '''something'''\n",
    "      \n",
    "    @abc.abstractmethod\n",
    "    def _notifyObserver(self):\n",
    "        '''something'''\n",
    "        "
   ]
  },
  {
   "cell_type": "markdown",
   "metadata": {},
   "source": [
    "## Define the Abstract Observer\n",
    "  Define an updating interface for objects that should be notified of\n",
    "    changes in a subject."
   ]
  },
  {
   "cell_type": "code",
   "execution_count": 4,
   "metadata": {},
   "outputs": [],
   "source": [
    "class Observer(metaclass=abc.ABCMeta):\n",
    "    \n",
    "    def __init__(self):\n",
    "        self.subject = None\n",
    "        self._observer_state = None\n",
    "        \n",
    "    @abc.abstractmethod\n",
    "    def update(self, arg):\n",
    "        '''something'''"
   ]
  },
  {
   "cell_type": "markdown",
   "metadata": {},
   "source": [
    "## Concrete implementations\n",
    "\n",
    "Your task now to define a concrete subject that simulates a specific data item on a report. Maybe the total monthly sales for an organisation (or similar). Also implement a second concrete subject that provides a different reportingin element. (Regional sales total?)\n",
    "\n",
    "Create at least 2 concrete observers. For a subject that is a report item you could now have concrete report objects. I.e. the total monthly sales might belong in a sales forecast report, but also on a profitability report. The forecast might also need to get updates from the regional sales total, etc.)\n",
    "\n",
    "Test the interaction between these concrete classes."
   ]
  },
  {
   "cell_type": "code",
   "execution_count": 17,
   "metadata": {},
   "outputs": [],
   "source": [
    "class RegionalSales(Subject):\n",
    "    \n",
    "    def __init__(self):\n",
    "        self._observers = set()\n",
    "        self._subject_state = None\n",
    "    \n",
    "    def registerObserver(self, observer):\n",
    "        observer.subject = self\n",
    "        self._observers.add(observer)\n",
    "        \n",
    "    def removeObserver(self, observer):\n",
    "        observer.subject = None\n",
    "        self._observers.discard(observer)\n",
    "      \n",
    "    def _notifyObservers(self):\n",
    "        for observer in self._observers:\n",
    "            observer.update(self._subject_state)\n",
    "\n",
    "    @property\n",
    "    def subject_state(self):\n",
    "        return self._subject_state\n",
    "    \n",
    "    @subject_state.setter\n",
    "    def subject_state(self, arg):\n",
    "        self._subject_state = arg\n",
    "        self._notifyObservers()\n",
    "        \n",
    "        \n",
    "class OrganisationSales(Subject):\n",
    "    \n",
    "    def __init__(self):\n",
    "        self._observers = set()\n",
    "        self._subject_state = None\n",
    "    \n",
    "    def registerObserver(self, observer):\n",
    "        observer.subject = self\n",
    "        self._observers.add(observer)\n",
    "        \n",
    "    def removeObserver(self, observer):\n",
    "        observer.subject = None\n",
    "        self._observers.discard(observer)\n",
    "      \n",
    "    def _notifyObservers(self):\n",
    "        for observer in self._observers:\n",
    "            observer.update(self._subject_state)\n",
    "\n",
    "    @property\n",
    "    def subject_state(self):\n",
    "        return self._subject_state\n",
    "    \n",
    "    @subject_state.setter\n",
    "    def subject_state(self, arg):\n",
    "        self._subject_state = arg\n",
    "        self._notifyObservers()\n",
    "        \n",
    "        "
   ]
  },
  {
   "cell_type": "code",
   "execution_count": 18,
   "metadata": {},
   "outputs": [],
   "source": [
    "class ReportMonthly(Observer):\n",
    "    \n",
    "    def update(self, arg):\n",
    "        self._observer_state = arg\n",
    "        \n",
    "class ReportYearly(Observer):\n",
    "    \n",
    "    def update(self, arg):\n",
    "        self._observer_state = arg"
   ]
  },
  {
   "cell_type": "code",
   "execution_count": 36,
   "metadata": {},
   "outputs": [],
   "source": [
    "sør = RegionalSales()\n",
    "oslo = RegionalSales()\n",
    "øst = RegionalSales()\n",
    "\n",
    "org = OrganisationSales()\n"
   ]
  },
  {
   "cell_type": "code",
   "execution_count": 20,
   "metadata": {},
   "outputs": [],
   "source": [
    "aug19 = ReportMonthly()\n",
    "sep19 = ReportMonthly()\n",
    "oct19 = ReportMonthly()\n",
    "\n",
    "year2019 = ReportYearly()\n"
   ]
  },
  {
   "cell_type": "code",
   "execution_count": 37,
   "metadata": {},
   "outputs": [],
   "source": [
    "sør.registerObserver(aug19)\n",
    "sør.registerObserver(year2019)\n",
    "\n",
    "oslo.registerObserver(aug19)\n",
    "oslo.registerObserver(year2019)\n",
    "\n",
    "øst.registerObserver(aug19)\n",
    "øst.registerObserver(year2019)\n",
    "\n",
    "\n",
    "org.registerObserver(aug19)\n",
    "org.registerObserver(year2019)"
   ]
  },
  {
   "cell_type": "code",
   "execution_count": 41,
   "metadata": {},
   "outputs": [
    {
     "name": "stdout",
     "output_type": "stream",
     "text": [
      "None\n",
      "None\n"
     ]
    }
   ],
   "source": [
    "print(aug19._observer_state)\n",
    "print(sør._subject_state)"
   ]
  },
  {
   "cell_type": "code",
   "execution_count": 43,
   "metadata": {},
   "outputs": [],
   "source": [
    "sør._notifyObservers()\n"
   ]
  },
  {
   "cell_type": "code",
   "execution_count": 44,
   "metadata": {},
   "outputs": [
    {
     "name": "stdout",
     "output_type": "stream",
     "text": [
      "None\n",
      "None\n"
     ]
    }
   ],
   "source": [
    "print(aug19._observer_state)\n",
    "print(sør._subject_state)"
   ]
  },
  {
   "cell_type": "code",
   "execution_count": 51,
   "metadata": {},
   "outputs": [],
   "source": [
    "aug19.update(500)"
   ]
  },
  {
   "cell_type": "code",
   "execution_count": 52,
   "metadata": {},
   "outputs": [
    {
     "name": "stdout",
     "output_type": "stream",
     "text": [
      "500\n",
      "None\n"
     ]
    }
   ],
   "source": [
    "print(aug19._observer_state)\n",
    "print(sør._subject_state)"
   ]
  },
  {
   "cell_type": "code",
   "execution_count": 54,
   "metadata": {},
   "outputs": [],
   "source": [
    "sør.subject_state = 400"
   ]
  },
  {
   "cell_type": "code",
   "execution_count": 56,
   "metadata": {},
   "outputs": [
    {
     "name": "stdout",
     "output_type": "stream",
     "text": [
      "400\n",
      "None\n",
      "400\n"
     ]
    }
   ],
   "source": [
    "print(aug19._observer_state)\n",
    "print(sep19._observer_state)\n",
    "print(sør._subject_state)"
   ]
  },
  {
   "cell_type": "code",
   "execution_count": 58,
   "metadata": {},
   "outputs": [],
   "source": [
    "sør.removeObserver(aug19)\n",
    "sør.registerObserver(sep19)"
   ]
  },
  {
   "cell_type": "code",
   "execution_count": 59,
   "metadata": {},
   "outputs": [],
   "source": [
    "sep19.update(650)"
   ]
  },
  {
   "cell_type": "code",
   "execution_count": 60,
   "metadata": {},
   "outputs": [
    {
     "name": "stdout",
     "output_type": "stream",
     "text": [
      "400\n",
      "650\n",
      "400\n"
     ]
    }
   ],
   "source": [
    "print(aug19._observer_state)\n",
    "print(sep19._observer_state)\n",
    "print(sør._subject_state)"
   ]
  },
  {
   "cell_type": "code",
   "execution_count": 61,
   "metadata": {},
   "outputs": [],
   "source": [
    "sør.subject_state = 1000"
   ]
  },
  {
   "cell_type": "code",
   "execution_count": 65,
   "metadata": {},
   "outputs": [
    {
     "name": "stdout",
     "output_type": "stream",
     "text": [
      "400\n",
      "1000\n",
      "1000\n",
      "None\n"
     ]
    }
   ],
   "source": [
    "print(aug19._observer_state)\n",
    "print(sep19._observer_state)\n",
    "print(sør._subject_state)\n",
    "print(org._subject_state)"
   ]
  },
  {
   "cell_type": "code",
   "execution_count": 67,
   "metadata": {},
   "outputs": [],
   "source": [
    "org.subject_state = 2750"
   ]
  },
  {
   "cell_type": "code",
   "execution_count": 68,
   "metadata": {},
   "outputs": [
    {
     "name": "stdout",
     "output_type": "stream",
     "text": [
      "2750\n",
      "1000\n",
      "1000\n",
      "2750\n"
     ]
    }
   ],
   "source": [
    "print(aug19._observer_state)\n",
    "print(sep19._observer_state)\n",
    "print(sør._subject_state)\n",
    "print(org._subject_state)"
   ]
  },
  {
   "cell_type": "code",
   "execution_count": null,
   "metadata": {},
   "outputs": [],
   "source": []
  }
 ],
 "metadata": {
  "kernelspec": {
   "display_name": "Python 3",
   "language": "python",
   "name": "python3"
  },
  "language_info": {
   "codemirror_mode": {
    "name": "ipython",
    "version": 3
   },
   "file_extension": ".py",
   "mimetype": "text/x-python",
   "name": "python",
   "nbconvert_exporter": "python",
   "pygments_lexer": "ipython3",
   "version": "3.7.4"
  }
 },
 "nbformat": 4,
 "nbformat_minor": 2
}
